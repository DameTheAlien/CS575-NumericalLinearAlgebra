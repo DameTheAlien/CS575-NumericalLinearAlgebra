{
 "cells": [
  {
   "cell_type": "markdown",
   "metadata": {
    "id": "K-BUsEcrKnB-"
   },
   "source": [
    "# Homework 1\n",
    "## Damian Franco\n",
    "## CS-575"
   ]
  },
  {
   "cell_type": "code",
   "execution_count": 4,
   "metadata": {
    "id": "w_51SZSoJTxM"
   },
   "outputs": [],
   "source": [
    "# Importing the required modules\n",
    "from numpy import *\n",
    "import numpy as np\n",
    "import matplotlib.pyplot as plt\n",
    "import time\n",
    "# from prettytable import PrettyTable\n",
    "%matplotlib inline"
   ]
  },
  {
   "cell_type": "code",
   "execution_count": 29,
   "metadata": {
    "id": "QPUnCL8SLKZW"
   },
   "outputs": [],
   "source": [
    "# Saves the current plot to desktop since working in Google Colab\n",
    "from google.colab import files\n",
    "#plt.savefig(\"my_plot.png\", bbox_inches='tight', dpi=300)\n",
    "#files.download(\"my_plot.png\")"
   ]
  },
  {
   "cell_type": "markdown",
   "metadata": {
    "id": "Kr5EcX5YLVIU"
   },
   "source": [
    "## Question 1 - MatVec"
   ]
  },
  {
   "cell_type": "code",
   "execution_count": 5,
   "metadata": {
    "id": "oAZL0CVkLZZn"
   },
   "outputs": [],
   "source": [
    "# Function to perform matrix-vector multiplication\n",
    "def mat_vec(local_A, local_b):\n",
    "    local_x = np.zeros(local_b.shape)\n",
    "    local_n = len(local_b)\n",
    "\n",
    "    for i in range(local_n):\n",
    "      for j in range(local_n):\n",
    "        local_x[i] += A[i][j] * b[j]\n",
    "    \n",
    "    return local_x"
   ]
  },
  {
   "cell_type": "code",
   "execution_count": 6,
   "metadata": {
    "id": "2ueGFa66RzX7"
   },
   "outputs": [],
   "source": [
    "simple_A = np.array([[1, 2, 3], [4, 5, 6], [7, 8, 9]])\n",
    "simple_b = np.array([1, 2, 3])"
   ]
  },
  {
   "cell_type": "code",
   "execution_count": 7,
   "metadata": {
    "colab": {
     "base_uri": "https://localhost:8080/"
    },
    "id": "jD_41almQWyM",
    "outputId": "b3fed56e-af84-4ebb-bf6b-9057c6eb3e81"
   },
   "outputs": [
    {
     "name": "stdout",
     "output_type": "stream",
     "text": [
      "[[1 2 3]\n",
      " [4 5 6]\n",
      " [7 8 9]]\n"
     ]
    }
   ],
   "source": [
    "print(simple_A)"
   ]
  },
  {
   "cell_type": "code",
   "execution_count": 8,
   "metadata": {
    "colab": {
     "base_uri": "https://localhost:8080/"
    },
    "id": "BrgGKBboU7Sc",
    "outputId": "b0aac81c-e1d2-4427-8d6c-4f350188bf7e"
   },
   "outputs": [
    {
     "name": "stdout",
     "output_type": "stream",
     "text": [
      "[1 2 3]\n"
     ]
    }
   ],
   "source": [
    "print(simple_b)"
   ]
  },
  {
   "cell_type": "code",
   "execution_count": 9,
   "metadata": {
    "colab": {
     "base_uri": "https://localhost:8080/"
    },
    "id": "jQRVB7H1VMlQ",
    "outputId": "6d3dc7c7-7219-4a70-a001-ef91db9c3cf2"
   },
   "outputs": [
    {
     "name": "stdout",
     "output_type": "stream",
     "text": [
      "[14 32 50]\n"
     ]
    }
   ],
   "source": [
    "exact = simple_A.dot(simple_b)\n",
    "#approx = mat_vec(simple_A, simple_b)\n",
    "print(exact)\n",
    "#print(approx)"
   ]
  },
  {
   "cell_type": "code",
   "execution_count": 10,
   "metadata": {
    "id": "wMebqc8UYaTC"
   },
   "outputs": [],
   "source": [
    "#print(exact @ approx)"
   ]
  },
  {
   "cell_type": "code",
   "execution_count": 11,
   "metadata": {
    "id": "0PiY8O_IMZhS"
   },
   "outputs": [],
   "source": [
    "# This set of N values should generally work well for most machines for Mat-vec\n",
    "# Changed this to fit more appropiatly with some tests on my machine\n",
    "N_arr = np.array([160, 320, 640, 1280, 2560]) \n",
    "time_list = []\n",
    "err_list = []\n",
    "for N in N_arr:\n",
    "    \n",
    "    #Generate random vectors and matrices\n",
    "    A = np.random.rand(N,N)\n",
    "    b = np.random.rand(N)\n",
    "    \n",
    "    \n",
    "    t_start = time.time()\n",
    "    x_mine = mat_vec(A,b)\n",
    "    t_end = time.time()\n",
    "    \n",
    "    #Verification\n",
    "    x_true = A@b\n",
    "    err_list.append(np.linalg.norm(x_mine - x_true))\n",
    "    #assert(diff < 1e-12*N)\n",
    "    \n",
    "    time_list.append(t_end-t_start)\n",
    "  "
   ]
  },
  {
   "cell_type": "code",
   "execution_count": 12,
   "metadata": {
    "colab": {
     "base_uri": "https://localhost:8080/"
    },
    "id": "nYl6KOEKnvLm",
    "outputId": "0d713041-c3a5-4b24-b25f-b06b39489e46"
   },
   "outputs": [
    {
     "ename": "NameError",
     "evalue": "name 'PrettyTable' is not defined",
     "output_type": "error",
     "traceback": [
      "\u001b[1;31m---------------------------------------------------------------------------\u001b[0m",
      "\u001b[1;31mNameError\u001b[0m                                 Traceback (most recent call last)",
      "\u001b[1;32m~\\AppData\\Local\\Temp\\ipykernel_4492\\4241688602.py\u001b[0m in \u001b[0;36m<module>\u001b[1;34m\u001b[0m\n\u001b[0;32m      1\u001b[0m \u001b[1;31m# Create error table with sizes\u001b[0m\u001b[1;33m\u001b[0m\u001b[1;33m\u001b[0m\u001b[0m\n\u001b[0;32m      2\u001b[0m \u001b[1;31m# Specify the Column Names while initializing the Table\u001b[0m\u001b[1;33m\u001b[0m\u001b[1;33m\u001b[0m\u001b[0m\n\u001b[1;32m----> 3\u001b[1;33m \u001b[0mmyTable\u001b[0m \u001b[1;33m=\u001b[0m \u001b[0mPrettyTable\u001b[0m\u001b[1;33m(\u001b[0m\u001b[1;33m[\u001b[0m\u001b[1;34m\"N size\"\u001b[0m\u001b[1;33m,\u001b[0m \u001b[1;34m\"Runtime Speed (sec)\"\u001b[0m\u001b[1;33m,\u001b[0m \u001b[1;34m\"Error\"\u001b[0m\u001b[1;33m]\u001b[0m\u001b[1;33m)\u001b[0m\u001b[1;33m\u001b[0m\u001b[1;33m\u001b[0m\u001b[0m\n\u001b[0m\u001b[0;32m      4\u001b[0m \u001b[1;33m\u001b[0m\u001b[0m\n\u001b[0;32m      5\u001b[0m \u001b[1;31m# Add rows\u001b[0m\u001b[1;33m\u001b[0m\u001b[1;33m\u001b[0m\u001b[0m\n",
      "\u001b[1;31mNameError\u001b[0m: name 'PrettyTable' is not defined"
     ]
    }
   ],
   "source": [
    "# Create error table with sizes\n",
    "# Specify the Column Names while initializing the Table\n",
    "myTable = PrettyTable([\"N size\", \"Runtime Speed (sec)\", \"Error\"])\n",
    "\n",
    "# Add rows\n",
    "for i in range(len(N_arr)):\n",
    "  myTable.add_row([N_arr[i], time_list[i], err_list[i]])\n",
    "\n",
    "print(myTable)"
   ]
  },
  {
   "cell_type": "code",
   "execution_count": null,
   "metadata": {
    "colab": {
     "base_uri": "https://localhost:8080/",
     "height": 301
    },
    "id": "RYc4akWEMbqc",
    "outputId": "fa383c51-993e-409c-8713-9caae3a504a1"
   },
   "outputs": [],
   "source": [
    "# Plot the runtime results\n",
    "plt.loglog(N_arr, time_list, label='Runtime with N-sizes')\n",
    "plt.xlabel('$N$')\n",
    "plt.ylabel('$Time$')\n",
    "\n",
    "# Plotting the x^2 asymptotic bound\n",
    "x_cords = range(160, 2560)\n",
    "y_cords = [x*x*1e-6 for x in x_cords]\n",
    "plt.plot(x_cords, y_cords, label='x^2')\n",
    "\n",
    "plt.legend(loc=\"upper left\")\n",
    "plt.title('Matrix-Vector Multiplication Runtime Analysis')\n",
    "\n",
    "plt.savefig(\"my_plot.png\", bbox_inches='tight', dpi=300)\n",
    "files.download(\"my_plot.png\")\n",
    "plt.show() \n"
   ]
  },
  {
   "cell_type": "markdown",
   "metadata": {
    "id": "kRynDKquMeCb"
   },
   "source": [
    "## Question 2 - MatMat"
   ]
  },
  {
   "cell_type": "code",
   "execution_count": null,
   "metadata": {
    "id": "FjAmzFfDaEm_"
   },
   "outputs": [],
   "source": [
    "# Function to perform matrix-matrix multiplication\n",
    "def mat_mat(local_A, local_b):\n",
    "    \n",
    "    local_x = np.zeros(local_b.shape)\n",
    "    local_n = len(local_A)\n",
    "\n",
    "    for i in range(local_n):\n",
    "      for j in range(local_n):\n",
    "        for k in range(local_n):\n",
    "          local_x[i][j] += A[i][k] * b[k][j]\n",
    "    \n",
    "    return local_x"
   ]
  },
  {
   "cell_type": "code",
   "execution_count": null,
   "metadata": {
    "id": "iGDGSI2RdlmG"
   },
   "outputs": [],
   "source": [
    "simple_A = np.array([[1, 2, 3], [4, 5, 6], [7, 8, 9]])\n",
    "simple_b = np.array([[1, 2, 3], [4, 5, 6], [7, 8, 9]])"
   ]
  },
  {
   "cell_type": "code",
   "execution_count": null,
   "metadata": {
    "colab": {
     "base_uri": "https://localhost:8080/"
    },
    "id": "JksYh27zdogc",
    "outputId": "1cda8f28-365c-4466-c905-32c4e6584a3a"
   },
   "outputs": [],
   "source": [
    "exact = simple_A.dot(simple_b)\n",
    "approx = mat_vec(simple_A, simple_b)\n",
    "print(exact)\n",
    "print(approx)"
   ]
  },
  {
   "cell_type": "code",
   "execution_count": null,
   "metadata": {
    "id": "0cRmJ15BgCN1"
   },
   "outputs": [],
   "source": [
    "# This set of N values should generally work well for most machines for Mat-vec\n",
    "# Changed this to fit more appropiatly with some tests on my machine\n",
    "N_arr = np.array([20, 40, 80, 160, 320]) \n",
    "time_list = []\n",
    "for N in N_arr:\n",
    "    \n",
    "    #Generate random vectors and matrices\n",
    "    A = np.random.rand(N,N)\n",
    "    b = np.random.rand(N,N)\n",
    "    \n",
    "    \n",
    "    t_start = time.time()\n",
    "    x_mine = mat_mat(A,b)\n",
    "    t_end = time.time()\n",
    "    \n",
    "    #Verification\n",
    "    x_true = A@b\n",
    "    diff = np.linalg.norm(x_mine - x_true)\n",
    "    #assert(diff < 1e-12*N)\n",
    "    \n",
    "    time_list.append(t_end-t_start)\n",
    "  "
   ]
  },
  {
   "cell_type": "code",
   "execution_count": null,
   "metadata": {
    "colab": {
     "base_uri": "https://localhost:8080/"
    },
    "id": "mvGtfJOOqYdD",
    "outputId": "50162883-d280-4ad8-9a29-74f2ec959052"
   },
   "outputs": [],
   "source": [
    "# Create error table with sizes\n",
    "# Specify the Column Names while initializing the Table\n",
    "table2 = PrettyTable([\"N size\", \"Runtime Speed (sec)\", \"Error\"])\n",
    "\n",
    "# Add rows\n",
    "for i in range(len(N_arr)):\n",
    "  table2.add_row([N_arr[i], time_list[i], err_list[i]])\n",
    "\n",
    "print(table2)"
   ]
  },
  {
   "cell_type": "code",
   "execution_count": 13,
   "metadata": {
    "colab": {
     "base_uri": "https://localhost:8080/",
     "height": 301
    },
    "id": "S4DYR6AcgJiS",
    "outputId": "b0f380d5-f026-4507-da8a-e27bcba23766"
   },
   "outputs": [
    {
     "ename": "NameError",
     "evalue": "name 'files' is not defined",
     "output_type": "error",
     "traceback": [
      "\u001b[1;31m---------------------------------------------------------------------------\u001b[0m",
      "\u001b[1;31mNameError\u001b[0m                                 Traceback (most recent call last)",
      "\u001b[1;32m~\\AppData\\Local\\Temp\\ipykernel_4492\\2468030626.py\u001b[0m in \u001b[0;36m<module>\u001b[1;34m\u001b[0m\n\u001b[0;32m     13\u001b[0m \u001b[1;33m\u001b[0m\u001b[0m\n\u001b[0;32m     14\u001b[0m \u001b[0mplt\u001b[0m\u001b[1;33m.\u001b[0m\u001b[0msavefig\u001b[0m\u001b[1;33m(\u001b[0m\u001b[1;34m\"my_plot.png\"\u001b[0m\u001b[1;33m,\u001b[0m \u001b[0mbbox_inches\u001b[0m\u001b[1;33m=\u001b[0m\u001b[1;34m'tight'\u001b[0m\u001b[1;33m,\u001b[0m \u001b[0mdpi\u001b[0m\u001b[1;33m=\u001b[0m\u001b[1;36m300\u001b[0m\u001b[1;33m)\u001b[0m\u001b[1;33m\u001b[0m\u001b[1;33m\u001b[0m\u001b[0m\n\u001b[1;32m---> 15\u001b[1;33m \u001b[0mfiles\u001b[0m\u001b[1;33m.\u001b[0m\u001b[0mdownload\u001b[0m\u001b[1;33m(\u001b[0m\u001b[1;34m\"my_plot.png\"\u001b[0m\u001b[1;33m)\u001b[0m\u001b[1;33m\u001b[0m\u001b[1;33m\u001b[0m\u001b[0m\n\u001b[0m\u001b[0;32m     16\u001b[0m \u001b[0mplt\u001b[0m\u001b[1;33m.\u001b[0m\u001b[0mshow\u001b[0m\u001b[1;33m(\u001b[0m\u001b[1;33m)\u001b[0m\u001b[1;33m\u001b[0m\u001b[1;33m\u001b[0m\u001b[0m\n",
      "\u001b[1;31mNameError\u001b[0m: name 'files' is not defined"
     ]
    },
    {
     "data": {
      "image/png": "[encoded data removed]",
      "text/plain": [
       "<Figure size 640x480 with 1 Axes>"
      ]
     },
     "metadata": {},
     "output_type": "display_data"
    }
   ],
   "source": [
    "# Plotting the x^3 asymptotic bound\n",
    "x_cords = range(20, 320)\n",
    "y_cords = [x*x*x*1e-6 for x in x_cords]\n",
    "plt.plot(x_cords, y_cords, label='x^3')\n",
    "\n",
    "# Plot the runtime results\n",
    "plt.loglog(N_arr, time_list, label='Runtime with N-sizes')\n",
    "plt.xlabel('$N$')\n",
    "plt.ylabel('$Time$')\n",
    "\n",
    "plt.legend(loc=\"upper left\")\n",
    "plt.title('Matrix-Matrix Multiplication Runtime Analysis')\n",
    "\n",
    "plt.savefig(\"my_plot.png\", bbox_inches='tight', dpi=300)\n",
    "files.download(\"my_plot.png\")\n",
    "plt.show() \n"
   ]
  },
  {
   "cell_type": "code",
   "execution_count": null,
   "metadata": {},
   "outputs": [],
   "source": []
  }
 ],
 "metadata": {
  "colab": {
   "provenance": []
  },
  "kernelspec": {
   "display_name": "Python 3 (ipykernel)",
   "language": "python",
   "name": "python3"
  },
  "language_info": {
   "codemirror_mode": {
    "name": "ipython",
    "version": 3
   },
   "file_extension": ".py",
   "mimetype": "text/x-python",
   "name": "python",
   "nbconvert_exporter": "python",
   "pygments_lexer": "ipython3",
   "version": "3.9.13"
  }
 },
 "nbformat": 4,
 "nbformat_minor": 4
}
