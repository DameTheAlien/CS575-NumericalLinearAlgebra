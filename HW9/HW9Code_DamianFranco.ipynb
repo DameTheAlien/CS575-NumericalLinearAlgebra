{
  "nbformat": 4,
  "nbformat_minor": 0,
  "metadata": {
    "colab": {
      "provenance": []
    },
    "kernelspec": {
      "name": "python3",
      "display_name": "Python 3"
    },
    "language_info": {
      "name": "python"
    }
  },
  "cells": [
    {
      "cell_type": "markdown",
      "source": [
        "# Homework 9\n",
        "## Damian Franco\n",
        "## CS-575\n",
        "\n",
        "This program has two parts to the code. The first is setting up a matrix A and finding the iteration matrix and properties of the matrix to determine if the matrix will converge using Gauss-Seidel's algorithm. The next section (Question 3) is an implementation of Jacobi's and Gauss-Seidels algorithms to solve a linear system Ax = b with some examples and tables of my findings."
      ],
      "metadata": {
        "id": "mPRvqtsCcRYL"
      }
    },
    {
      "cell_type": "code",
      "execution_count": 86,
      "metadata": {
        "id": "AGl1zSRHb_rv"
      },
      "outputs": [],
      "source": [
        "# Importing the required modules\n",
        "from numpy import *\n",
        "import numpy as np\n",
        "import matplotlib.pyplot as plt\n",
        "import time\n",
        "from prettytable import PrettyTable\n",
        "import scipy\n",
        "import scipy.linalg \n",
        "from pprint import pprint\n",
        "%matplotlib inline\n",
        "import math"
      ]
    },
    {
      "cell_type": "code",
      "source": [
        "# Saves the current plot to desktop since working in Google Colab\n",
        "from google.colab import files\n",
        "#plt.savefig(\"my_plot.png\", bbox_inches='tight', dpi=300)\n",
        "#files.download(\"my_plot.png\")"
      ],
      "metadata": {
        "id": "0m_9wTU9cWP5"
      },
      "execution_count": 87,
      "outputs": []
    },
    {
      "cell_type": "markdown",
      "source": [
        "# Question 2"
      ],
      "metadata": {
        "id": "3SIYf5JlnXRE"
      }
    },
    {
      "cell_type": "code",
      "source": [
        "# Set up matrix A\n",
        "A_GS = np.array([[1, -1, 0], [-1, 2, -1], [0, -1, 2]])\n",
        "A_GS"
      ],
      "metadata": {
        "colab": {
          "base_uri": "https://localhost:8080/"
        },
        "id": "Ei9FtFRNnJfK",
        "outputId": "21e1a159-7662-4747-f15d-4bbe9f466003"
      },
      "execution_count": 278,
      "outputs": [
        {
          "output_type": "execute_result",
          "data": {
            "text/plain": [
              "array([[ 1, -1,  0],\n",
              "       [-1,  2, -1],\n",
              "       [ 0, -1,  2]])"
            ]
          },
          "metadata": {},
          "execution_count": 278
        }
      ]
    },
    {
      "cell_type": "markdown",
      "source": [
        "## Check if A is invertible"
      ],
      "metadata": {
        "id": "wUz89GiPoMrt"
      }
    },
    {
      "cell_type": "code",
      "source": [
        "# Compute the determinant of A\n",
        "det_A_GS = np.linalg.det(A_GS)\n",
        "\n",
        "if det_A_GS != 0:\n",
        "    print(\"A is invertible\")\n",
        "else:\n",
        "    print(\"A is not invertible\")"
      ],
      "metadata": {
        "colab": {
          "base_uri": "https://localhost:8080/"
        },
        "id": "2RFiEYMVoPWt",
        "outputId": "4d6d3652-96ff-4552-9a9a-5b392576588b"
      },
      "execution_count": 281,
      "outputs": [
        {
          "output_type": "stream",
          "name": "stdout",
          "text": [
            "A is invertible\n"
          ]
        }
      ]
    },
    {
      "cell_type": "markdown",
      "source": [
        "## Find the iteration matrix M"
      ],
      "metadata": {
        "id": "Wu864Akyp2Jv"
      }
    },
    {
      "cell_type": "code",
      "source": [
        "# Compute the iteration matrix\n",
        "D = np.diag(np.diag(A_GS)) \n",
        "L = np.tril(A_GS, -1)\n",
        "U = np.triu(A_GS, 1)\n",
        "M_GS = np.linalg.inv(D - L) @ U\n",
        "print(M_GS)"
      ],
      "metadata": {
        "colab": {
          "base_uri": "https://localhost:8080/"
        },
        "id": "O3pU_HRPp1zT",
        "outputId": "4e14d425-839a-485f-b885-93dcbba7e2b2"
      },
      "execution_count": 284,
      "outputs": [
        {
          "output_type": "stream",
          "name": "stdout",
          "text": [
            "[[ 0.   -1.    0.  ]\n",
            " [ 0.    0.5  -0.5 ]\n",
            " [ 0.   -0.25  0.25]]\n"
          ]
        }
      ]
    },
    {
      "cell_type": "markdown",
      "source": [
        "## Find spectral radius p(M) of M "
      ],
      "metadata": {
        "id": "Ek-pjZJQoWoJ"
      }
    },
    {
      "cell_type": "code",
      "source": [
        "# Compute the eigenvalues and p(M)\n",
        "eigVals = np.linalg.eigvals(M_GS)\n",
        "spectral_radius = np.max(np.abs(eigVals))\n",
        "print(\"Spectral radius =\", spectral_radius)"
      ],
      "metadata": {
        "colab": {
          "base_uri": "https://localhost:8080/"
        },
        "id": "6cdczCBJoZHq",
        "outputId": "a455b2c7-bf7a-43ad-cbc7-6846d5dd4281"
      },
      "execution_count": 285,
      "outputs": [
        {
          "output_type": "stream",
          "name": "stdout",
          "text": [
            "Spectral radius = 0.75\n"
          ]
        }
      ]
    },
    {
      "cell_type": "markdown",
      "source": [
        "## Find norms of M"
      ],
      "metadata": {
        "id": "z7bja3L6oZiG"
      }
    },
    {
      "cell_type": "code",
      "source": [
        "# 1-norm\n",
        "one_norm = np.linalg.norm(M_GS, ord=1)\n",
        "print(\"1-norm =\", one_norm)"
      ],
      "metadata": {
        "colab": {
          "base_uri": "https://localhost:8080/"
        },
        "id": "qe1xOE6Cocq4",
        "outputId": "668b76f5-c9a2-4119-9e20-af32f6125844"
      },
      "execution_count": 286,
      "outputs": [
        {
          "output_type": "stream",
          "name": "stdout",
          "text": [
            "1-norm = 1.75\n"
          ]
        }
      ]
    },
    {
      "cell_type": "code",
      "source": [
        "# 2-norm\n",
        "two_norm = np.linalg.norm(M_GS, ord=2)\n",
        "print(\"2-norm =\", two_norm)"
      ],
      "metadata": {
        "colab": {
          "base_uri": "https://localhost:8080/"
        },
        "id": "p9dbjoNwowW_",
        "outputId": "3a15c29b-a8b3-4c5f-9a74-1b96f603cc07"
      },
      "execution_count": 287,
      "outputs": [
        {
          "output_type": "stream",
          "name": "stdout",
          "text": [
            "2-norm = 1.1841130945790346\n"
          ]
        }
      ]
    },
    {
      "cell_type": "code",
      "source": [
        "# Infinity norm\n",
        "inf_norm = np.linalg.norm(M_GS, ord=np.inf)\n",
        "print(\"Infinity norm =\", inf_norm)"
      ],
      "metadata": {
        "colab": {
          "base_uri": "https://localhost:8080/"
        },
        "id": "VW0RkBHZouJX",
        "outputId": "2e70efa4-c3e0-4a47-d72c-72a0ef349443"
      },
      "execution_count": 288,
      "outputs": [
        {
          "output_type": "stream",
          "name": "stdout",
          "text": [
            "Infinity norm = 1.0\n"
          ]
        }
      ]
    },
    {
      "cell_type": "markdown",
      "source": [
        "# Question 3"
      ],
      "metadata": {
        "id": "DzV1VqYTnKDE"
      }
    },
    {
      "cell_type": "markdown",
      "source": [
        "## Form sparse linear system"
      ],
      "metadata": {
        "id": "vJzJBeGBcqRv"
      }
    },
    {
      "cell_type": "code",
      "source": [
        "f = lambda x: 4 * np.pi**2 * np.sin(2 * np.pi * x)"
      ],
      "metadata": {
        "id": "FCy7flAsfOOw"
      },
      "execution_count": 88,
      "outputs": []
    },
    {
      "cell_type": "code",
      "source": [
        "def form_sparse_lin_sys(N):\n",
        "    # Form matrix A\n",
        "    A = scipy.sparse.diags([-1, 2, -1], [-1, 0, 1], shape=(N, N))\n",
        "    \n",
        "    # Form vector b\n",
        "    h = 1/(N+1)\n",
        "    b = np.zeros((N,))\n",
        "    for i in range(N):\n",
        "        b[i] = h**2 * f( (i+1)*h )\n",
        "\n",
        "    return A, b "
      ],
      "metadata": {
        "id": "Dd37uMFVeA5z"
      },
      "execution_count": 111,
      "outputs": []
    },
    {
      "cell_type": "code",
      "source": [
        "# Testing out functionality of the function\n",
        "N_test = 10\n",
        "A_test, b_test = form_sparse_lin_sys(N_test)\n",
        "A_test"
      ],
      "metadata": {
        "colab": {
          "base_uri": "https://localhost:8080/"
        },
        "id": "WVCnx0zNeG5Y",
        "outputId": "10a09717-94b5-4b22-be99-4a489844f3b5"
      },
      "execution_count": 90,
      "outputs": [
        {
          "output_type": "execute_result",
          "data": {
            "text/plain": [
              "<10x10 sparse matrix of type '<class 'numpy.float64'>'\n",
              "\twith 28 stored elements (3 diagonals) in DIAgonal format>"
            ]
          },
          "metadata": {},
          "execution_count": 90
        }
      ]
    },
    {
      "cell_type": "code",
      "source": [
        "# Printing out non-sparse version of the sparse matrix generated, just for testing\n",
        "# A.toarray()"
      ],
      "metadata": {
        "id": "_UeKUaRVlDl0"
      },
      "execution_count": 91,
      "outputs": []
    },
    {
      "cell_type": "code",
      "source": [
        "b_test"
      ],
      "metadata": {
        "colab": {
          "base_uri": "https://localhost:8080/"
        },
        "id": "u2yvWO9Jezrq",
        "outputId": "4b6be101-5306-4fb5-9cf0-dae9811de150"
      },
      "execution_count": 92,
      "outputs": [
        {
          "output_type": "execute_result",
          "data": {
            "text/plain": [
              "array([ 0.17639375,  0.29678373,  0.32294698,  0.24657684,  0.09192029,\n",
              "       -0.09192029, -0.24657684, -0.32294698, -0.29678373, -0.17639375])"
            ]
          },
          "metadata": {},
          "execution_count": 92
        }
      ]
    },
    {
      "cell_type": "markdown",
      "source": [
        "## Solving the system with SciPy"
      ],
      "metadata": {
        "id": "yrBqNuRklsEn"
      }
    },
    {
      "cell_type": "code",
      "source": [
        "x_star = scipy.sparse.linalg.spsolve(A_test, b_test)\n",
        "x_star"
      ],
      "metadata": {
        "colab": {
          "base_uri": "https://localhost:8080/"
        },
        "id": "N_kduCyslxLp",
        "outputId": "0be2124e-e0e7-4ad6-fefc-ead6852f27da"
      },
      "execution_count": 94,
      "outputs": [
        {
          "output_type": "execute_result",
          "data": {
            "text/plain": [
              "array([ 0.55558324,  0.93477272,  1.01717847,  0.77663724,  0.28951918,\n",
              "       -0.28951918, -0.77663724, -1.01717847, -0.93477272, -0.55558324])"
            ]
          },
          "metadata": {},
          "execution_count": 94
        }
      ]
    },
    {
      "cell_type": "markdown",
      "source": [
        "## Check if matrix is strictly diagonally dominant"
      ],
      "metadata": {
        "id": "wwQveyTsvJMQ"
      }
    },
    {
      "cell_type": "code",
      "source": [
        "def strictDiagDom(A):\n",
        "  # Check if input matrix A is strictly diagonally dominant\n",
        "    if not scipy.sparse.isspmatrix(A):\n",
        "        print(\"Input matrix is not a sparse matrix\")\n",
        "        return False\n",
        "    \n",
        "    diag = np.abs(A.diagonal())\n",
        "    off_diag = np.abs(A.sum(axis=1) - diag)\n",
        "    isDom = np.all(diag > off_diag)\n",
        "    \n",
        "    if isDom:\n",
        "        print(\"A is strictly diagonally dominant\")\n",
        "    else:\n",
        "        print(\"A is not strictly diagonally dominant\")\n",
        "        \n",
        "    return isDom"
      ],
      "metadata": {
        "id": "GpyWmcuVvI6Q"
      },
      "execution_count": 95,
      "outputs": []
    },
    {
      "cell_type": "markdown",
      "source": [
        "## Jacobi Method for solving Ax = b"
      ],
      "metadata": {
        "id": "u57EGVz2lwz7"
      }
    },
    {
      "cell_type": "code",
      "source": [
        "def jacobi(A, b, n, max_iter):\n",
        "    # Define tolerance for error\n",
        "    tol = 1e-10\n",
        "\n",
        "    # Check if input matrix A is strictly diagonally dominant\n",
        "    if not strictDiagDom(A):\n",
        "        print('A is not strictly diagonally dominant, may not converge')\n",
        "\n",
        "    # Convert A to CSR format\n",
        "    A = scipy.sparse.csr_matrix(A)\n",
        "    x = np.zeros_like(n)\n",
        "    x_star = scipy.sparse.linalg.spsolve(A, b)\n",
        "\n",
        "    for i in range(max_iter):\n",
        "        # Compute residual\n",
        "        r = b - A.dot(x)\n",
        "        D = A.diagonal()\n",
        "\n",
        "        # Compute the Jacobi update\n",
        "        delta = np.divide(r, D)\n",
        "        x_new = x + delta\n",
        "\n",
        "        # Check for convergence\n",
        "        if np.linalg.norm(delta) < tol:\n",
        "            break\n",
        "\n",
        "        x = x_new\n",
        "\n",
        "    # Compute iteration matrix and spectral radius\n",
        "    M = scipy.sparse.diags(1/D, 0).dot(A)\n",
        "    spectral_radius = np.abs(scipy.sparse.linalg.eigs(M, k=1, return_eigenvectors=False))[0]\n",
        "\n",
        "    # Compute the error\n",
        "    err_st1 = abs(x_star - x)\n",
        "    err = scipy.linalg.norm(err_st1)\n",
        "\n",
        "    return x, spectral_radius, err"
      ],
      "metadata": {
        "id": "YOBr9OrTmwou"
      },
      "execution_count": 168,
      "outputs": []
    },
    {
      "cell_type": "code",
      "source": [
        "jac_estimate, jac_specRad, jac_error = jacobi(A_test, b_test, N_test, 1000)\n",
        "jac_estimate"
      ],
      "metadata": {
        "colab": {
          "base_uri": "https://localhost:8080/"
        },
        "id": "pncwkvposI0Q",
        "outputId": "1b3108d8-7d47-48e9-a215-6e13a39d40dc"
      },
      "execution_count": 169,
      "outputs": [
        {
          "output_type": "execute_result",
          "data": {
            "text/plain": [
              "array([ 0.55558324,  0.93477272,  1.01717847,  0.77663724,  0.28951918,\n",
              "       -0.28951918, -0.77663724, -1.01717847, -0.93477272, -0.55558324])"
            ]
          },
          "metadata": {},
          "execution_count": 169
        }
      ]
    },
    {
      "cell_type": "code",
      "source": [
        "x_star"
      ],
      "metadata": {
        "colab": {
          "base_uri": "https://localhost:8080/"
        },
        "id": "lvUa7Cjbq4vN",
        "outputId": "6bffbe91-577f-4620-ed14-65d842413540"
      },
      "execution_count": 170,
      "outputs": [
        {
          "output_type": "execute_result",
          "data": {
            "text/plain": [
              "array([ 0.55558324,  0.93477272,  1.01717847,  0.77663724,  0.28951918,\n",
              "       -0.28951918, -0.77663724, -1.01717847, -0.93477272, -0.55558324])"
            ]
          },
          "metadata": {},
          "execution_count": 170
        }
      ]
    },
    {
      "cell_type": "markdown",
      "source": [
        "## Gauss-Seidel Method for Solving Ax = b"
      ],
      "metadata": {
        "id": "8U5yO3NWmw3y"
      }
    },
    {
      "cell_type": "code",
      "source": [
        "def gaussSeidel(A, b, n, max_iter):\n",
        "    # Define tolerance for error\n",
        "    tol = 1e-10\n",
        "\n",
        "    # Check if input matrix A is strictly diagonally dominant\n",
        "    if not strictDiagDom(A):\n",
        "        print('A is not strictly diagonally dominant, may not converge')\n",
        "    \n",
        "    # Convert A to CSR format\n",
        "    A = scipy.sparse.csr_matrix(A)\n",
        "    x = np.zeros(n)\n",
        "    x_star = scipy.sparse.linalg.spsolve(A, b)\n",
        "\n",
        "    for i in range(max_iter):\n",
        "        for j in range(n):\n",
        "            # Compute the residual for the jth equation\n",
        "            r_j = b[j] - A[j,:].dot(x)\n",
        "            D_jj = A[j,j]\n",
        "\n",
        "            # Compute the Gauss-Seidel update for the jth variable\n",
        "            x[j] += r_j / D_jj\n",
        "\n",
        "        # Check for convergence\n",
        "        if np.linalg.norm(r_j) < tol:\n",
        "            break\n",
        "\n",
        "    # Compute iteration matrix and spectral radius\n",
        "    M = scipy.sparse.tril(A, k=-1).dot(scipy.sparse.linalg.spsolve(scipy.sparse.triu(A, k=0), scipy.sparse.eye(n)))\n",
        "    spectral_radius = np.abs(scipy.sparse.linalg.eigs(M, k=1, return_eigenvectors=False))[0]\n",
        "\n",
        "    # Compute the error\n",
        "    err_st1 = abs(x_star - x)\n",
        "    err = scipy.linalg.norm(err_st1)\n",
        "\n",
        "    return x, spectral_radius, err"
      ],
      "metadata": {
        "id": "lqEogWd8m2Hk"
      },
      "execution_count": 177,
      "outputs": []
    },
    {
      "cell_type": "code",
      "source": [
        "gauss_estimate, gauss_specRad, gauss_error = gaussSeidel(A_test, b_test, N_test, 1000)\n",
        "gauss_estimate"
      ],
      "metadata": {
        "colab": {
          "base_uri": "https://localhost:8080/"
        },
        "id": "tMmdEN-mucAq",
        "outputId": "e60bbdf0-d716-4d47-ff6c-f6389c999e06"
      },
      "execution_count": 172,
      "outputs": [
        {
          "output_type": "execute_result",
          "data": {
            "text/plain": [
              "array([ 0.55558324,  0.93477272,  1.01717847,  0.77663725,  0.28951918,\n",
              "       -0.28951918, -0.77663724, -1.01717847, -0.93477272, -0.55558324])"
            ]
          },
          "metadata": {},
          "execution_count": 172
        }
      ]
    },
    {
      "cell_type": "code",
      "source": [
        "x_star"
      ],
      "metadata": {
        "colab": {
          "base_uri": "https://localhost:8080/"
        },
        "id": "dJL4jShKun4B",
        "outputId": "3a4cd315-1739-4947-9431-73132f969dc8"
      },
      "execution_count": 173,
      "outputs": [
        {
          "output_type": "execute_result",
          "data": {
            "text/plain": [
              "array([ 0.55558324,  0.93477272,  1.01717847,  0.77663724,  0.28951918,\n",
              "       -0.28951918, -0.77663724, -1.01717847, -0.93477272, -0.55558324])"
            ]
          },
          "metadata": {},
          "execution_count": 173
        }
      ]
    },
    {
      "cell_type": "markdown",
      "source": [
        "## Testing out with different matrices"
      ],
      "metadata": {
        "id": "uWA0si73m12L"
      }
    },
    {
      "cell_type": "code",
      "source": [
        "N_sizes = [10, 20, 40, 80, 160]\n",
        "for i in N_sizes:\n",
        "  A_curr, b_curr = form_sparse_lin_sys(i)\n",
        "  x_star_curr = scipy.sparse.linalg.spsolve(A_curr, b_curr)\n",
        "  jac_estimate, jac_specRad, jac_error = jacobi(A_curr, b_curr, i, 1000)\n",
        "  gauss_estimate, gauss_specRad, gauss_error= gaussSeidel(A_curr, b_curr, i, 1000)\n",
        "\n",
        "  print('Current Matrix Size N:', i) \n",
        "  print(jac_estimate)\n",
        "  print(gauss_estimate)\n",
        "  print('Jacobi Method Spectral Radius:', jac_specRad)\n",
        "  print('Gauss-Seidel Spectral Radius:', gauss_specRad)\n",
        "  print('')"
      ],
      "metadata": {
        "id": "29DT1cwzoBmZ",
        "colab": {
          "base_uri": "https://localhost:8080/"
        },
        "outputId": "36de698a-b427-49c2-9c77-7eb8b546ed38"
      },
      "execution_count": 134,
      "outputs": [
        {
          "output_type": "stream",
          "name": "stdout",
          "text": [
            "Current Matrix Size N: 10\n",
            "[ 0.55558324  0.93477272  1.01717847  0.77663724  0.28951918 -0.28951918\n",
            " -0.77663724 -1.01717847 -0.93477272 -0.55558324]\n",
            "[ 0.55558324  0.93477272  1.01717847  0.77663725  0.28951918 -0.28951918\n",
            " -0.77663724 -1.01717847 -0.93477272 -0.55558324]\n",
            "Jacobi Method Spectral Radius: 1.9594929736144946\n",
            "Gauss-Seidel Spectral Radius: 0.9206267664155896\n",
            "\n",
            "Current Matrix Size N: 20\n",
            "[ 0.29696393  0.56754131  0.78769016  0.93784928  1.00467637  0.98223356\n",
            "  0.87251499  0.68526963  0.43713506  0.15015912 -0.15015912 -0.43713506\n",
            " -0.68526963 -0.87251499 -0.98223356 -1.00467637 -0.93784928 -0.78769016\n",
            " -0.56754131 -0.29696393]\n",
            "[ 0.29696393  0.56754132  0.78769017  0.93784929  1.00467638  0.98223358\n",
            "  0.872515    0.68526965  0.43713508  0.15015913 -0.1501591  -0.43713504\n",
            " -0.68526962 -0.87251498 -0.98223355 -1.00467636 -0.93784927 -0.78769015\n",
            " -0.56754131 -0.29696393]\n",
            "Jacobi Method Spectral Radius: 1.9888308262251309\n",
            "Gauss-Seidel Spectral Radius: 0.9777864028930712\n",
            "\n",
            "Current Matrix Size N: 40\n",
            "[ 0.15294722  0.30230949  0.44458588  0.57644156  0.69478593  0.79684511\n",
            "  0.88022692  0.94297695  0.9836244   1.00121653  0.995341    0.96613551\n",
            "  0.91428463  0.84100369  0.74801033  0.63748425  0.51201608  0.37454668\n",
            "  0.22829823  0.07669866 -0.07669866 -0.22829823 -0.37454668 -0.51201608\n",
            " -0.63748425 -0.74801033 -0.84100369 -0.91428463 -0.96613551 -0.995341\n",
            " -1.00121653 -0.9836244  -0.94297695 -0.88022692 -0.79684511 -0.69478593\n",
            " -0.57644156 -0.44458588 -0.30230949 -0.15294722]\n",
            "[ 0.15296815  0.30235109  0.44464775  0.57652316  0.69488661  0.79696407\n",
            "  0.88036325  0.94312965  0.98379235  1.00139852  0.99553575  0.96634168\n",
            "  0.9145008   0.84122842  0.74824215  0.63772164  0.51225753  0.37479068\n",
            "  0.22854327  0.07694327 -0.07645593 -0.22805879 -0.37431189 -0.51178724\n",
            " -0.63726261 -0.74779707 -0.8407999  -0.91409135 -0.9659537  -0.99517152\n",
            " -1.00106018 -0.98348188 -0.94284888 -0.88011384 -0.79674747 -0.69470411\n",
            " -0.57637584 -0.44453648 -0.30227653 -0.15293076]\n",
            "Jacobi Method Spectral Radius: 1.9970658011837445\n",
            "Gauss-Seidel Spectral Radius: 0.9941402118901763\n",
            "\n",
            "Current Matrix Size N: 80\n",
            "[ 0.07371571  0.14698809  0.21937646  0.29044547  0.35976771  0.42692627\n",
            "  0.49151724  0.55315217  0.61146038  0.66609119  0.71671606  0.7630305\n",
            "  0.80475599  0.84164159  0.87346545  0.90003619  0.92119401  0.93681165\n",
            "  0.9467952   0.95108462  0.9496541   0.94251224  0.92970201  0.91130044\n",
            "  0.8874182   0.85819893  0.82381834  0.78448322  0.74043012  0.69192398\n",
            "  0.63925654  0.58274453  0.52272782  0.45956737  0.39364303  0.32535127\n",
            "  0.25510281  0.18332014  0.11043495  0.03688559 -0.03688559 -0.11043495\n",
            " -0.18332014 -0.25510281 -0.32535127 -0.39364303 -0.45956737 -0.52272782\n",
            " -0.58274453 -0.63925654 -0.69192398 -0.74043012 -0.78448322 -0.82381834\n",
            " -0.85819893 -0.8874182  -0.91130044 -0.92970201 -0.94251224 -0.9496541\n",
            " -0.95108462 -0.9467952  -0.93681165 -0.92119401 -0.90003619 -0.87346545\n",
            " -0.84164159 -0.80475599 -0.7630305  -0.71671606 -0.66609119 -0.61146038\n",
            " -0.55315217 -0.49151724 -0.42692627 -0.35976771 -0.29044547 -0.21937646\n",
            " -0.14698809 -0.07371571]\n",
            "[ 0.07770877  0.15495263  0.23126877  0.30619994  0.37929719  0.45012261\n",
            "  0.51825189  0.58327695  0.64480833  0.70247756  0.75593938  0.80487377\n",
            "  0.84898793  0.88801801  0.9217307   0.94992463  0.97243156  0.98911743\n",
            "  0.99988316  1.00466519  1.00343593  0.99620387  0.98301359  0.96394542\n",
            "  0.939115    0.90867258  0.87280209  0.83172007  0.78567434  0.73494252\n",
            "  0.67983035  0.62066986  0.55781737  0.49165136  0.42257016  0.35098959\n",
            "  0.27734041  0.20206582  0.12561867  0.04845886 -0.02894952 -0.10614093\n",
            " -0.1826512  -0.25802031 -0.33179517 -0.40353232 -0.47280064 -0.53918389\n",
            " -0.60228325 -0.66171972 -0.71713636 -0.76820049 -0.81460563 -0.85607341\n",
            " -0.89235518 -0.92323354 -0.94852365 -0.96807431 -0.98176891 -0.98952609\n",
            " -0.99130026 -0.98708185 -0.97689737 -0.96080927 -0.93891554 -0.91134912\n",
            " -0.87827712 -0.83989978 -0.7964493  -0.74818841 -0.69540881 -0.6384294\n",
            " -0.57759438 -0.51327115 -0.44584812 -0.37573235 -0.30334713 -0.2291294\n",
            " -0.15352716 -0.07699672]\n",
            "Jacobi Method Spectral Radius: 1.9992479525042306\n",
            "Gauss-Seidel Spectral Radius: 0.9984964705839006\n",
            "\n",
            "Current Matrix Size N: 160\n",
            "[ 0.02080335  0.04157501  0.06228336  0.08289687  0.10338414  0.12371397\n",
            "  0.1438554   0.16377777  0.18345073  0.20284432  0.22192902  0.24067576\n",
            "  0.25905598  0.27704171  0.29460554  0.31172075  0.32836125  0.34450171\n",
            "  0.36011755  0.375185    0.3896811   0.40358378  0.41687186  0.42952512\n",
            "  0.44152429  0.45285108  0.46348826  0.47341962  0.48263004  0.4911055\n",
            "  0.49883308  0.50580102  0.51199872  0.51741672  0.52204678  0.52588185\n",
            "  0.52891609  0.53114487  0.53256482  0.53317375  0.53297074  0.53195611\n",
            "  0.5301314   0.52749939  0.52406408  0.51983071  0.51480572  0.50899677\n",
            "  0.5024127   0.49506354  0.48696048  0.47811585  0.46854314  0.45825691\n",
            "  0.44727283  0.43560763  0.42327907  0.41030593  0.39670796  0.38250587\n",
            "  0.36772128  0.35237672  0.33649554  0.32010194  0.30322087  0.28587805\n",
            "  0.26809988  0.24991345  0.23134643  0.21242711  0.1931843   0.17364731\n",
            "  0.15384587  0.13381016  0.11357067  0.09315824  0.07260394  0.05193907\n",
            "  0.03119512  0.01040365 -0.01040365 -0.03119512 -0.05193907 -0.07260394\n",
            " -0.09315824 -0.11357067 -0.13381016 -0.15384587 -0.17364731 -0.1931843\n",
            " -0.21242711 -0.23134643 -0.24991345 -0.26809988 -0.28587805 -0.30322087\n",
            " -0.32010194 -0.33649554 -0.35237672 -0.36772128 -0.38250587 -0.39670796\n",
            " -0.41030593 -0.42327907 -0.43560763 -0.44727283 -0.45825691 -0.46854314\n",
            " -0.47811585 -0.48696048 -0.49506354 -0.5024127  -0.50899677 -0.51480572\n",
            " -0.51983071 -0.52406408 -0.52749939 -0.5301314  -0.53195611 -0.53297074\n",
            " -0.53317375 -0.53256482 -0.53114487 -0.52891609 -0.52588185 -0.52204678\n",
            " -0.51741672 -0.51199872 -0.50580102 -0.49883308 -0.4911055  -0.48263004\n",
            " -0.47341962 -0.46348826 -0.45285108 -0.44152429 -0.42952512 -0.41687186\n",
            " -0.40358378 -0.3896811  -0.375185   -0.36011755 -0.34450171 -0.32836125\n",
            " -0.31172075 -0.29460554 -0.27704171 -0.25905598 -0.24067576 -0.22192902\n",
            " -0.20284432 -0.18345073 -0.16377777 -0.1438554  -0.12371397 -0.10338414\n",
            " -0.08289687 -0.06228336 -0.04157501 -0.02080335]\n",
            "[ 0.03032731  0.06062215  0.09083859  0.1209308   0.15085309  0.18056006\n",
            "  0.21000658  0.23914791  0.26793977  0.29633837  0.32430053  0.35178369\n",
            "  0.37874603  0.40514648  0.43094484  0.4561018   0.48057899  0.50433911\n",
            "  0.52734589  0.54956423  0.5709602   0.59150111  0.61115559  0.62989357\n",
            "  0.64768639  0.66450682  0.68032909  0.69512895  0.7088837   0.72157222\n",
            "  0.73317503  0.74367425  0.75305373  0.76129898  0.76839726  0.77433755\n",
            "  0.77911061  0.78270896  0.78512692  0.7863606   0.7864079   0.78526856\n",
            "  0.78294408  0.77943781  0.77475486  0.76890217  0.76188844  0.75372415\n",
            "  0.74442152  0.73399452  0.72245883  0.70983182  0.69613254  0.68138166\n",
            "  0.66560145  0.64881577  0.63105001  0.61233106  0.59268725  0.57214834\n",
            "  0.55074546  0.52851106  0.50547885  0.48168378  0.45716195  0.43195059\n",
            "  0.40608798  0.37961339  0.35256704  0.32499003  0.29692427  0.26841242\n",
            "  0.23949784  0.21022448  0.18063689  0.15078006  0.12069943  0.09044079\n",
            "  0.06005017  0.02957386 -0.00094174 -0.03145017 -0.06190494 -0.09225966\n",
            " -0.12246808 -0.15248416 -0.18226214 -0.21175664 -0.24092267 -0.26971575\n",
            " -0.29809195 -0.32600799 -0.35342127 -0.38028992 -0.40657295 -0.4322302\n",
            " -0.45722249 -0.48151163 -0.5050605  -0.5278331  -0.54979461 -0.57091143\n",
            " -0.59115124 -0.61048306 -0.62887729 -0.64630573 -0.66274168 -0.67815992\n",
            " -0.69253678 -0.70585018 -0.71807965 -0.72920637 -0.73921321 -0.74808471\n",
            " -0.75580717 -0.76236862 -0.76775887 -0.77196949 -0.77499388 -0.77682721\n",
            " -0.7774665  -0.77691056 -0.77516003 -0.7722174  -0.76808693 -0.76277472\n",
            " -0.75628867 -0.74863848 -0.73983562 -0.7298933  -0.71882651 -0.70665192\n",
            " -0.69338794 -0.6790546  -0.66367359 -0.64726821 -0.62986331 -0.61148529\n",
            " -0.59216202 -0.57192286 -0.55079852 -0.52882113 -0.50602408 -0.48244205\n",
            " -0.45811093 -0.43306775 -0.40735064 -0.38099879 -0.35405235 -0.32655241\n",
            " -0.2985409  -0.27006055 -0.24115484 -0.2118679  -0.18224444 -0.15232974\n",
            " -0.12216951 -0.09180987 -0.06129725 -0.03067833]\n",
            "Jacobi Method Spectral Radius: 1.999809627498074\n",
            "Gauss-Seidel Spectral Radius: 0.9996192912378363\n",
            "\n"
          ]
        }
      ]
    },
    {
      "cell_type": "markdown",
      "source": [
        "## Check iterations"
      ],
      "metadata": {
        "id": "-eBrDzhEoGNu"
      }
    },
    {
      "cell_type": "code",
      "source": [
        "N_iter = 100\n",
        "A_iter, b_iter = form_sparse_lin_sys(N_iter)\n",
        "x_star_iter = scipy.sparse.linalg.spsolve(A_iter, b_iter)"
      ],
      "metadata": {
        "id": "Aiqbf6dQKPT5"
      },
      "execution_count": 241,
      "outputs": []
    },
    {
      "cell_type": "code",
      "source": [
        "jac_errors_iters = []\n",
        "gauss_errors_iters = []"
      ],
      "metadata": {
        "id": "p5zCYWRQN7aj"
      },
      "execution_count": 239,
      "outputs": []
    },
    {
      "cell_type": "code",
      "source": [
        "jac_specrad_iters = []\n",
        "gauss_specrad_iters = []"
      ],
      "metadata": {
        "id": "ZKhA11m9U3iy"
      },
      "execution_count": 240,
      "outputs": []
    },
    {
      "cell_type": "code",
      "source": [
        "current_iter = 100\n",
        "# Jacobi Testing\n",
        "jac_estimate, jac_specRad, jac_error = jacobi(A_iter, b_iter, N_iter, current_iter)\n",
        "jac_errors_iters.append(jac_error)\n",
        "jac_specrad_iters.append(jac_specRad)\n",
        "# Gauss-Seidel Testing\n",
        "gauss_estimate, gauss_specRad, gauss_error = gaussSeidel(A_iter, b_iter, N_iter, current_iter)\n",
        "gauss_errors_iters.append(gauss_error)\n",
        "gauss_specrad_iters.append(gauss_specRad)"
      ],
      "metadata": {
        "id": "6YvDhVOhKTBV"
      },
      "execution_count": 253,
      "outputs": []
    },
    {
      "cell_type": "code",
      "source": [
        "jac_errors_iters"
      ],
      "metadata": {
        "colab": {
          "base_uri": "https://localhost:8080/"
        },
        "id": "9u1uak4MKU4S",
        "outputId": "4e71fa0e-51ff-4705-bc1d-2214c6b8a5e3"
      },
      "execution_count": 254,
      "outputs": [
        {
          "output_type": "execute_result",
          "data": {
            "text/plain": [
              "[4.483397476812058,\n",
              " 4.032078494457569,\n",
              " 3.5836938880328084,\n",
              " 3.18517159345417,\n",
              " 2.8309667055063206,\n",
              " 2.516150936469359,\n",
              " 2.2363440455804744,\n",
              " 1.9876528938366993,\n",
              " 1.7666172761677774,\n",
              " 1.570161777306207,\n",
              " 1.3955529814932275]"
            ]
          },
          "metadata": {},
          "execution_count": 254
        }
      ]
    },
    {
      "cell_type": "code",
      "source": [
        "gauss_errors_iters"
      ],
      "metadata": {
        "colab": {
          "base_uri": "https://localhost:8080/"
        },
        "id": "rmAui7zwMFlS",
        "outputId": "f4332c3c-1c15-4a36-f712-3826639628f8"
      },
      "execution_count": 255,
      "outputs": [
        {
          "output_type": "execute_result",
          "data": {
            "text/plain": [
              "[4.433605189224998,\n",
              " 3.6032739754310357,\n",
              " 2.8592588938131285,\n",
              " 2.267929417788103,\n",
              " 1.7990152941449997,\n",
              " 1.4279967321726026,\n",
              " 1.1351204094202614,\n",
              " 0.9045264266480328,\n",
              " 0.7235124330010749,\n",
              " 0.5819200962597871,\n",
              " 0.4716255825482128]"
            ]
          },
          "metadata": {},
          "execution_count": 255
        }
      ]
    },
    {
      "cell_type": "code",
      "source": [
        "jac_specrad_iters"
      ],
      "metadata": {
        "colab": {
          "base_uri": "https://localhost:8080/"
        },
        "id": "1W-SPVYyVPfH",
        "outputId": "ce8e4f52-0121-484e-deaf-45a5d4e3b3cd"
      },
      "execution_count": 256,
      "outputs": [
        {
          "output_type": "execute_result",
          "data": {
            "text/plain": [
              "[1.9970658011837406,\n",
              " 1.9970658011837443,\n",
              " 1.9970658011837377,\n",
              " 1.9970658011837443,\n",
              " 1.997065801183743,\n",
              " 1.9970658011837434,\n",
              " 1.99706580118374,\n",
              " 1.9970658011837386,\n",
              " 1.9970658011837428,\n",
              " 1.9970658011837392,\n",
              " 1.9970658011837361]"
            ]
          },
          "metadata": {},
          "execution_count": 256
        }
      ]
    },
    {
      "cell_type": "code",
      "source": [
        "gauss_specrad_iters"
      ],
      "metadata": {
        "colab": {
          "base_uri": "https://localhost:8080/"
        },
        "id": "cy0TlfCgVcm0",
        "outputId": "2c8ba1ee-ca26-4750-9b6f-3bfc48ee46ff"
      },
      "execution_count": 257,
      "outputs": [
        {
          "output_type": "execute_result",
          "data": {
            "text/plain": [
              "[0.9941402118901742,\n",
              " 0.9941402118901723,\n",
              " 0.9941402118901739,\n",
              " 0.9941402118901734,\n",
              " 0.9941402118901738,\n",
              " 0.9941402118901761,\n",
              " 0.9941402118901793,\n",
              " 0.9941402118901742,\n",
              " 0.9941402118901743,\n",
              " 0.9941402118901747,\n",
              " 0.9941402118901744]"
            ]
          },
          "metadata": {},
          "execution_count": 257
        }
      ]
    },
    {
      "cell_type": "code",
      "source": [
        "jac_nk_errors = []\n",
        "gauss_nk_errors = []"
      ],
      "metadata": {
        "id": "1kjZVBA_Phx1"
      },
      "execution_count": 217,
      "outputs": []
    },
    {
      "cell_type": "code",
      "source": [
        "for curr in range(len(gauss_errors_iters)):\n",
        "    jac_curr_nk = jac_errors_iters[curr] / jac_errors_iters[0]\n",
        "    jac_nk_errors.append(jac_curr_nk)\n",
        "    gauss_curr_nk = gauss_errors_iters[curr] / gauss_errors_iters[0]\n",
        "    gauss_nk_errors.append(gauss_curr_nk)"
      ],
      "metadata": {
        "id": "TsHHjHX2Oj2w"
      },
      "execution_count": 218,
      "outputs": []
    },
    {
      "cell_type": "code",
      "source": [
        "# Create error table with sizes\n",
        "# Specify the Column Names while initializing the Table\n",
        "myTable_sr = PrettyTable([\"Iteration\", \"Jacobi Spectral Radius\", \"Gauss-Seidel Spectral Radius\"])\n",
        "iterNum_sr = [1, 10, 20, 30, 40, 50, 60, 70, 80, 90, 100]\n",
        "# Add rows\n",
        "for i in range(0,10):\n",
        "  myTable_sr.add_row([iterNum_sr[i], jac_specrad_iters[i], gauss_specrad_iters[i]])\n",
        "\n",
        "print(myTable_sr)"
      ],
      "metadata": {
        "colab": {
          "base_uri": "https://localhost:8080/"
        },
        "id": "M8n9WfpAV1Zd",
        "outputId": "72444242-b9e8-4296-d873-63c0df7fe461"
      },
      "execution_count": 260,
      "outputs": [
        {
          "output_type": "stream",
          "name": "stdout",
          "text": [
            "+-----------+------------------------+------------------------------+\n",
            "| Iteration | Jacobi Spectral Radius | Gauss-Seidel Spectral Radius |\n",
            "+-----------+------------------------+------------------------------+\n",
            "|     1     |   1.9970658011837406   |      0.9941402118901742      |\n",
            "|     10    |   1.9970658011837443   |      0.9941402118901723      |\n",
            "|     20    |   1.9970658011837377   |      0.9941402118901739      |\n",
            "|     30    |   1.9970658011837443   |      0.9941402118901734      |\n",
            "|     40    |   1.997065801183743    |      0.9941402118901738      |\n",
            "|     50    |   1.9970658011837434   |      0.9941402118901761      |\n",
            "|     60    |    1.99706580118374    |      0.9941402118901793      |\n",
            "|     70    |   1.9970658011837386   |      0.9941402118901742      |\n",
            "|     80    |   1.9970658011837428   |      0.9941402118901743      |\n",
            "|     90    |   1.9970658011837392   |      0.9941402118901747      |\n",
            "+-----------+------------------------+------------------------------+\n"
          ]
        }
      ]
    },
    {
      "cell_type": "code",
      "source": [
        "# Create error table with sizes\n",
        "# Specify the Column Names while initializing the Table\n",
        "myTable = PrettyTable([\"Iteration\", \"Jacobi Absolute Error\", \"Gauss-Seidel Absolute Error\", \"Jacobi Relative Error\", \"Gauss-Seidel Relative Error\"])\n",
        "iterNum = [1, 10, 20, 30, 40, 50, 60, 70, 80, 90, 100]\n",
        "# Add rows\n",
        "for i in range(0,10):\n",
        "  myTable.add_row([iterNum[i], jac_errors_iters[i], gauss_errors_iters[i], jac_nk_errors[i], gauss_nk_errors[i]])\n",
        "\n",
        "print(myTable)"
      ],
      "metadata": {
        "colab": {
          "base_uri": "https://localhost:8080/"
        },
        "id": "9l1G00CvOXf2",
        "outputId": "167cc285-bb1b-4e25-c8e8-b14d7a18409c"
      },
      "execution_count": 261,
      "outputs": [
        {
          "output_type": "stream",
          "name": "stdout",
          "text": [
            "+-----------+-----------------------+-----------------------------+-----------------------+-----------------------------+\n",
            "| Iteration | Jacobi Absolute Error | Gauss-Seidel Absolute Error | Jacobi Relative Error | Gauss-Seidel Relative Error |\n",
            "+-----------+-----------------------+-----------------------------+-----------------------+-----------------------------+\n",
            "|     1     |   4.483397476812058   |      4.433605189224998      |          1.0          |             1.0             |\n",
            "|     10    |   4.032078494457569   |      3.6032739754310357     |   0.8993354961970935  |      0.8127187292608015     |\n",
            "|     20    |   3.5836938880328084  |      2.8592588938131285     |   0.799325490672536   |      0.6449060689395602     |\n",
            "|     30    |    3.18517159345417   |      2.267929417788103      |   0.7104370312754428  |      0.5115316589983829     |\n",
            "|     40    |   2.8309667055063206  |      1.7990152941449997     |   0.6314333538679004  |      0.4057680414388613     |\n",
            "|     50    |   2.516150936469359   |      1.4279967321726026     |   0.5612152278451298  |      0.3220847755328026     |\n",
            "|     60    |   2.2363440455804744  |      1.1351204094202614     |   0.4988056618104353  |        0.256026497844       |\n",
            "|     70    |   1.9876528938366993  |      0.9045264266480328     |  0.44333631004539653  |     0.20401600684840085     |\n",
            "|     80    |   1.7666172761677774  |      0.7235124330010749     |   0.3940353906394976  |     0.16318828630917093     |\n",
            "|     90    |   1.570161777306207   |      0.5819200962597871     |   0.350216947176113   |     0.13125212359323943     |\n",
            "+-----------+-----------------------+-----------------------------+-----------------------+-----------------------------+\n"
          ]
        }
      ]
    }
  ]
}