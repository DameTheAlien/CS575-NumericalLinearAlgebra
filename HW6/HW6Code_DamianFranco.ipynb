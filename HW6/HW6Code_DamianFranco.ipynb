{
  "nbformat": 4,
  "nbformat_minor": 0,
  "metadata": {
    "colab": {
      "provenance": []
    },
    "kernelspec": {
      "name": "python3",
      "display_name": "Python 3"
    },
    "language_info": {
      "name": "python"
    }
  },
  "cells": [
    {
      "cell_type": "markdown",
      "source": [
        "# Homework 6\n",
        "## Damian Franco\n",
        "## CS-575\n",
        "\n",
        "This program implements three version of QR decomposition. The Gram-Schmidt approach is used with Classical Gram-Schmidt, Modified Gram-Schmidt version 1 and Modified Gram-Schmidt version 2. Each section below has the function for its respective approach. Testing is done with a small 3x2 matrix and with a large matrix with linearly dependent columns."
      ],
      "metadata": {
        "id": "-URhnwuowL9t"
      }
    },
    {
      "cell_type": "code",
      "execution_count": 15,
      "metadata": {
        "id": "mN_KyGiT-crw"
      },
      "outputs": [],
      "source": [
        "# Importing the required modules\n",
        "from numpy import *\n",
        "import numpy as np\n",
        "import matplotlib.pyplot as plt\n",
        "import time\n",
        "from prettytable import PrettyTable\n",
        "import scipy\n",
        "import scipy.linalg \n",
        "from pprint import pprint\n",
        "%matplotlib inline\n",
        "import math"
      ]
    },
    {
      "cell_type": "code",
      "source": [
        "# Saves the current plot to desktop since working in Google Colab\n",
        "from google.colab import files\n",
        "#plt.savefig(\"my_plot.png\", bbox_inches='tight', dpi=300)\n",
        "#files.download(\"my_plot.png\")"
      ],
      "metadata": {
        "id": "ulDLet2awQAj"
      },
      "execution_count": 2,
      "outputs": []
    },
    {
      "cell_type": "markdown",
      "source": [
        "# Classical Gram-Schmidt"
      ],
      "metadata": {
        "id": "Cul7xJnVwSn-"
      }
    },
    {
      "cell_type": "code",
      "source": [
        "# Classical GS\n",
        "def qr_cgs(A):\n",
        "    (m,n) = A.shape\n",
        "    Q = A.copy()\n",
        "    R = np.zeros((n,n))\n",
        "    for j in range(n):\n",
        "        for i in range(j):\n",
        "            R[i,j] = np.dot(Q[:,i],A[:,j])\n",
        "            Q[:,j] = Q[:,j] - R[i,j]*Q[:,i]\n",
        "        R[j,j] = np.linalg.norm(Q[:,j])\n",
        "        Q[:,j] = Q[:,j]/R[j,j]\n",
        "       \n",
        "    return Q, R"
      ],
      "metadata": {
        "id": "NCdBP42wwdGH"
      },
      "execution_count": 3,
      "outputs": []
    },
    {
      "cell_type": "code",
      "source": [
        "# Lets test the algorithms on a simple 2x2 system\n",
        "A = np.array([ [1.,2.], [3.,4.], [5.,6.] ])"
      ],
      "metadata": {
        "id": "0yNH-E6ew1Kh"
      },
      "execution_count": 4,
      "outputs": []
    },
    {
      "cell_type": "code",
      "source": [
        "Q_cgs, R_cgs = qr_cgs(A)\n",
        "print('Q =', Q_cgs)\n",
        "print('R =', R_cgs)"
      ],
      "metadata": {
        "colab": {
          "base_uri": "https://localhost:8080/"
        },
        "id": "-yxcg2uzwyqY",
        "outputId": "630a51c6-173d-448c-c184-94566b6e1a64"
      },
      "execution_count": 23,
      "outputs": [
        {
          "output_type": "stream",
          "name": "stdout",
          "text": [
            "Q = [[ 0.16903085  0.89708523]\n",
            " [ 0.50709255  0.27602622]\n",
            " [ 0.84515425 -0.34503278]]\n",
            "R = [[5.91607978 7.43735744]\n",
            " [0.         0.82807867]]\n"
          ]
        }
      ]
    },
    {
      "cell_type": "markdown",
      "source": [
        "# Modified Gram-Schmidt (Version 1)"
      ],
      "metadata": {
        "id": "GG51VH6LcA6z"
      }
    },
    {
      "cell_type": "code",
      "source": [
        "# Modified GS - Version 1. \n",
        "def qr_mgs_ver_1(A):\n",
        "    (m,n) = A.shape\n",
        "    Q = A.copy()\n",
        "    R = np.zeros((n,n))\n",
        "    for j in range(n):\n",
        "        R[j,j] = np.linalg.norm(Q[:,j])\n",
        "        Q[:,j] = Q[:,j]/R[j,j]\n",
        "        for i in range(j+1, n):\n",
        "            R[j,i] = np.dot(Q[:,j], Q[:,i])\n",
        "            Q[:,i] = Q[:,i] - R[j,i]*Q[:,j]\n",
        "    return Q, R"
      ],
      "metadata": {
        "id": "1xylCA_0wo1J"
      },
      "execution_count": 32,
      "outputs": []
    },
    {
      "cell_type": "code",
      "source": [
        "Q_ver1, R_ver1 = qr_mgs_ver_1(A)\n",
        "print('Q =', Q_ver1)\n",
        "print('R =', R_ver1)"
      ],
      "metadata": {
        "colab": {
          "base_uri": "https://localhost:8080/"
        },
        "id": "Vk44k5FQwtuV",
        "outputId": "d731206e-6991-46fa-eac5-501d7323cbe0"
      },
      "execution_count": 33,
      "outputs": [
        {
          "output_type": "stream",
          "name": "stdout",
          "text": [
            "Q = [[ 0.16903085  0.89708523]\n",
            " [ 0.50709255  0.27602622]\n",
            " [ 0.84515425 -0.34503278]]\n",
            "R = [[5.91607978 7.43735744]\n",
            " [0.         0.82807867]]\n"
          ]
        }
      ]
    },
    {
      "cell_type": "markdown",
      "source": [
        "# Modified Gram-Schmidt (Version 2)"
      ],
      "metadata": {
        "id": "ZkA8F54ewcwC"
      }
    },
    {
      "cell_type": "code",
      "source": [
        "# Modified GS - Version 2. Notice the similarity to Classical GS.\n",
        "def qr_mgs_ver_2(A):\n",
        "    (m,n) = A.shape\n",
        "    Q = A.copy()\n",
        "    R = np.zeros((n,n))\n",
        "    for j in range(n):\n",
        "        for i in range(j-1):\n",
        "            R[i,j] = np.dot(Q[:,i], Q[:,j])\n",
        "            Q[:,j] = Q[:,j] - R[i,j]*Q[:,i]\n",
        "        R[j,j] = np.linalg.norm(Q[:,j])\n",
        "        Q[:,j] = Q[:,j]/R[j,j]\n",
        "    return Q, R"
      ],
      "metadata": {
        "id": "msP5oknlwg6E"
      },
      "execution_count": 36,
      "outputs": []
    },
    {
      "cell_type": "code",
      "source": [
        "Q_ver2, R_ver2 = qr_mgs_ver_2(A)\n",
        "\n",
        "print('Q =', Q_ver2)\n",
        "print('R =', R_ver2)"
      ],
      "metadata": {
        "colab": {
          "base_uri": "https://localhost:8080/"
        },
        "id": "sP_OE-wrwuwD",
        "outputId": "0580e9f7-9b4c-4d96-8145-0b8426fb60b3"
      },
      "execution_count": 37,
      "outputs": [
        {
          "output_type": "stream",
          "name": "stdout",
          "text": [
            "Q = [[0.16903085 0.26726124]\n",
            " [0.50709255 0.53452248]\n",
            " [0.84515425 0.80178373]]\n",
            "R = [[5.91607978 0.        ]\n",
            " [0.         7.48331477]]\n"
          ]
        }
      ]
    },
    {
      "cell_type": "markdown",
      "source": [
        "# Test with nearly linearly dependent cols"
      ],
      "metadata": {
        "id": "gjFyLlvwYKP7"
      }
    },
    {
      "cell_type": "code",
      "source": [
        "#Lets test the algorithms on a matrix with nearly linearly dependent columns\n",
        "m = 200; n = 150\n",
        "a = np.random.normal(loc=0, scale=1, size=(m, 1))\n",
        "epsi = 1e-5\n",
        "b=a@np.ones((1,n))\n",
        "\n",
        "#The matrix A below has nearly linearly dependent columns\n",
        "A = np.multiply ((a@np.ones((1,n))), np.ones((m,n))) + epsi*np.random.normal(loc=0, scale=1, size=(m, n))\n",
        "\n",
        "# Empty lists for norms calculated\n",
        "normAs = []\n",
        "normQs = []\n",
        "\n",
        "# Classical Gram-Schmidt\n",
        "Q,R = qr_cgs(A)\n",
        "norm_of_A_minus_QR = np.linalg.norm(A-Q@R)\n",
        "norm_of_QTQ_minus_I = np.linalg.norm(Q.T@Q - np.identity(n))\n",
        "normAs.append(norm_of_A_minus_QR)\n",
        "normQs.append(norm_of_QTQ_minus_I)\n",
        "print('CGS: ||A-QR|| = ', norm_of_A_minus_QR, '&& ||QTQ-I|| = ',norm_of_QTQ_minus_I)\n",
        "\n",
        "# Modified Gram-Schmidt Version 1\n",
        "Q,R = qr_mgs_ver_1(A)\n",
        "norm_of_A_minus_QR = np.linalg.norm(A-Q@R)\n",
        "norm_of_QTQ_minus_I = np.linalg.norm(Q.T@Q - np.identity(n))\n",
        "normAs.append(norm_of_A_minus_QR)\n",
        "normQs.append(norm_of_QTQ_minus_I)\n",
        "print('MGS-ver1: ||A-QR||  = ', norm_of_A_minus_QR, '&& ||QTQ-I|| = ',norm_of_QTQ_minus_I)\n",
        "\n",
        "# Modified Gram-Schmidt Version 2\n",
        "Q,R = qr_mgs_ver_2(A)\n",
        "norm_of_A_minus_QR = np.linalg.norm(A-Q@R)\n",
        "norm_of_QTQ_minus_I = np.linalg.norm(Q.T@Q - np.identity(n))\n",
        "normAs.append(norm_of_A_minus_QR)\n",
        "normQs.append(norm_of_QTQ_minus_I)\n",
        "print('MGS-ver2: ||A-QR||  = ', norm_of_A_minus_QR, '&& ||QTQ-I|| = ',norm_of_QTQ_minus_I)"
      ],
      "metadata": {
        "colab": {
          "base_uri": "https://localhost:8080/"
        },
        "id": "Tm-OorHjYO_t",
        "outputId": "d0f1091b-f3f7-40c1-f45d-6c3d8c55328f"
      },
      "execution_count": 40,
      "outputs": [
        {
          "output_type": "stream",
          "name": "stdout",
          "text": [
            "CGS: ||A-QR|| =  7.459892324685454e-14 && ||QTQ-I|| =  0.00043386787336402015\n",
            "MGS-ver1: ||A-QR||  =  7.451390748880851e-14 && ||QTQ-I|| =  4.5864016513518555e-10\n",
            "MGS-ver2: ||A-QR||  =  7.394211914570254e-14 && ||QTQ-I|| =  3.3716815787946195\n"
          ]
        }
      ]
    },
    {
      "cell_type": "code",
      "source": [
        "# Create error table with sizes\n",
        "# Specify the Column Names while initializing the Table\n",
        "myTable = PrettyTable([\"Version\", \"||A-QR||\", \"||QTQ-I||\"])\n",
        "names = ['CGS', 'MGS Ver.1', 'MGS Ver.2']\n",
        "# Add rows\n",
        "for i in range(3):\n",
        "  myTable.add_row([names[i], normAs[i], normQs[i]])\n",
        "\n",
        "print(myTable)"
      ],
      "metadata": {
        "colab": {
          "base_uri": "https://localhost:8080/"
        },
        "id": "0vtxxtepY3Pf",
        "outputId": "42fb11e5-4196-4491-ee4e-26395954e7b0"
      },
      "execution_count": 46,
      "outputs": [
        {
          "output_type": "stream",
          "name": "stdout",
          "text": [
            "+-----------+-----------------------+------------------------+\n",
            "|  Version  |        ||A-QR||       |       ||QTQ-I||        |\n",
            "+-----------+-----------------------+------------------------+\n",
            "|    CGS    | 7.459892324685454e-14 | 0.00043386787336402015 |\n",
            "| MGS Ver.1 | 7.451390748880851e-14 | 4.5864016513518555e-10 |\n",
            "| MGS Ver.2 | 7.394211914570254e-14 |   3.3716815787946195   |\n",
            "+-----------+-----------------------+------------------------+\n"
          ]
        }
      ]
    }
  ]
}