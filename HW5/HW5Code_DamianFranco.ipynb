{
  "nbformat": 4,
  "nbformat_minor": 0,
  "metadata": {
    "colab": {
      "provenance": []
    },
    "kernelspec": {
      "name": "python3",
      "display_name": "Python 3"
    },
    "language_info": {
      "name": "python"
    }
  },
  "cells": [
    {
      "cell_type": "markdown",
      "source": [
        "# Homework 4\n",
        "## Damian Franco\n",
        "## CS-575"
      ],
      "metadata": {
        "id": "axhFjfjV67hz"
      }
    },
    {
      "cell_type": "code",
      "execution_count": null,
      "metadata": {
        "id": "iurS-qMj62Hc"
      },
      "outputs": [],
      "source": [
        "# Importing the required modules\n",
        "from numpy import *\n",
        "import numpy as np\n",
        "import matplotlib.pyplot as plt\n",
        "import time\n",
        "from prettytable import PrettyTable\n",
        "import scipy\n",
        "import scipy.linalg \n",
        "from pprint import pprint\n",
        "%matplotlib inline\n",
        "import math"
      ]
    },
    {
      "cell_type": "code",
      "source": [
        "# Saves the current plot to desktop since working in Google Colab\n",
        "from google.colab import files\n",
        "#plt.savefig(\"my_plot.png\", bbox_inches='tight', dpi=300)\n",
        "#files.download(\"my_plot.png\")"
      ],
      "metadata": {
        "id": "wveHxHbx69_Y"
      },
      "execution_count": null,
      "outputs": []
    },
    {
      "cell_type": "markdown",
      "source": [
        "# Molecular Weights (#1)"
      ],
      "metadata": {
        "id": "sx0Ubrl8c9Ue"
      }
    },
    {
      "cell_type": "code",
      "source": [
        "# W_a,b = W_N*a + W_O*b\n",
        "# W_a,b = a*(14.007) + b*(15.999)\n",
        "# W_N = 14.007\n",
        "# W_O = 15.999\n",
        "W_N = np.array([1, 2, 1, 2, 2, 2])\n",
        "W_O = np.array([1, 1, 2, 3, 4, 5])\n",
        "W_AB_ALL = np.array([30.006, 44.013, 46.006, 76.012, 92.011, 108.010])\n",
        "\n",
        "# Create coefficent matrix\n",
        "A = np.vstack([W_N, W_O, np.ones(len(W_N))]).T\n",
        "print(A)"
      ],
      "metadata": {
        "colab": {
          "base_uri": "https://localhost:8080/"
        },
        "id": "bWocQO4qdSzY",
        "outputId": "a20040e1-c222-4976-a88c-55968733de1b"
      },
      "execution_count": null,
      "outputs": [
        {
          "output_type": "stream",
          "name": "stdout",
          "text": [
            "[[1. 1. 1.]\n",
            " [2. 1. 1.]\n",
            " [1. 2. 1.]\n",
            " [2. 3. 1.]\n",
            " [2. 4. 1.]\n",
            " [2. 5. 1.]]\n"
          ]
        }
      ]
    },
    {
      "cell_type": "code",
      "source": [
        "# Fit the system using least squares\n",
        "m1, m2, c = np.linalg.lstsq(A, W_AB_ALL, rcond=None)[0]\n",
        "\n",
        "print('W_N Estimate:', m1)\n",
        "print('W_O Estimate:', m2)\n",
        "print('c Estimate:', c)"
      ],
      "metadata": {
        "colab": {
          "base_uri": "https://localhost:8080/"
        },
        "id": "hEGka01Imvn5",
        "outputId": "86cf9345-d9ca-4a26-d4bb-33ff5145a9fb"
      },
      "execution_count": null,
      "outputs": [
        {
          "output_type": "stream",
          "name": "stdout",
          "text": [
            "W_N Estimate: 14.006729729729736\n",
            "W_O Estimate: 15.9992972972973\n",
            "c Estimate: 0.00032432432427764724\n"
          ]
        }
      ]
    },
    {
      "cell_type": "code",
      "source": [
        "# Plot the data and the line of best fit\n",
        "plt.plot(W_N, W_AB_ALL, 'o', label='Nitrogin Data')\n",
        "plt.plot(W_N,  m2*W_O+m1*W_N + c + c, 'r', label='Best fit')\n",
        "plt.legend()\n",
        "plt.show()"
      ],
      "metadata": {
        "colab": {
          "base_uri": "https://localhost:8080/",
          "height": 265
        },
        "id": "Zr2N-OMwjdTa",
        "outputId": "b887a02a-064c-4123-e2cd-fb6d0bce3616"
      },
      "execution_count": null,
      "outputs": [
        {
          "output_type": "display_data",
          "data": {
            "text/plain": [
              "<Figure size 432x288 with 1 Axes>"
            ],
            "image/png": "[encoded data removed]"
          },
          "metadata": {
            "needs_background": "light"
          }
        }
      ]
    },
    {
      "cell_type": "code",
      "source": [
        "# Plot the data and the line of best fit\n",
        "plt.plot(W_O, W_AB_ALL, 'o', label='Oxygen data')\n",
        "plt.plot(W_O, m2*W_O+m1*W_N + c, 'r', label='Best fit')\n",
        "plt.legend()\n",
        "plt.show()"
      ],
      "metadata": {
        "colab": {
          "base_uri": "https://localhost:8080/",
          "height": 265
        },
        "id": "ix0UWJATo7q3",
        "outputId": "a949aafd-5aa6-4448-8b95-f15caf3c139a"
      },
      "execution_count": null,
      "outputs": [
        {
          "output_type": "display_data",
          "data": {
            "text/plain": [
              "<Figure size 432x288 with 1 Axes>"
            ],
            "image/png": "[encoded data removed]"
          },
          "metadata": {
            "needs_background": "light"
          }
        }
      ]
    }
  ]
}