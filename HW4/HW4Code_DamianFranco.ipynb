{
  "nbformat": 4,
  "nbformat_minor": 0,
  "metadata": {
    "colab": {
      "provenance": [],
      "collapsed_sections": [
        "axhFjfjV67hz"
      ]
    },
    "kernelspec": {
      "name": "python3",
      "display_name": "Python 3"
    },
    "language_info": {
      "name": "python"
    }
  },
  "cells": [
    {
      "cell_type": "markdown",
      "source": [
        "# Homework 4\n",
        "## Damian Franco\n",
        "## CS-575"
      ],
      "metadata": {
        "id": "axhFjfjV67hz"
      }
    },
    {
      "cell_type": "code",
      "execution_count": null,
      "metadata": {
        "id": "iurS-qMj62Hc"
      },
      "outputs": [],
      "source": [
        "# Importing the required modules\n",
        "from numpy import *\n",
        "import numpy as np\n",
        "import matplotlib.pyplot as plt\n",
        "import time\n",
        "from prettytable import PrettyTable\n",
        "import scipy\n",
        "import scipy.linalg \n",
        "from pprint import pprint\n",
        "%matplotlib inline\n",
        "import math"
      ]
    },
    {
      "cell_type": "code",
      "source": [
        "# Saves the current plot to desktop since working in Google Colab\n",
        "from google.colab import files\n",
        "#plt.savefig(\"my_plot.png\", bbox_inches='tight', dpi=300)\n",
        "#files.download(\"my_plot.png\")"
      ],
      "metadata": {
        "id": "wveHxHbx69_Y"
      },
      "execution_count": null,
      "outputs": []
    },
    {
      "cell_type": "markdown",
      "source": [
        "# Hilbert Matrix Linear System (#4)"
      ],
      "metadata": {
        "id": "jbaQ90KI6_UE"
      }
    },
    {
      "cell_type": "code",
      "source": [
        "# Test out 3x3 hilbert matrix A\n",
        "test_hilb = scipy.linalg.hilbert(3)\n",
        "pprint(test_hilb)"
      ],
      "metadata": {
        "colab": {
          "base_uri": "https://localhost:8080/"
        },
        "id": "Pn0P5Rpr9P9z",
        "outputId": "32b4246b-dcb4-498e-aeee-8c54d522c2f4"
      },
      "execution_count": null,
      "outputs": [
        {
          "output_type": "stream",
          "name": "stdout",
          "text": [
            "array([[1.        , 0.5       , 0.33333333],\n",
            "       [0.5       , 0.33333333, 0.25      ],\n",
            "       [0.33333333, 0.25      , 0.2       ]])\n"
          ]
        }
      ]
    },
    {
      "cell_type": "code",
      "source": [
        "# Test out 3x1 vector b\n",
        "print(test_hilb.sum(axis=1))"
      ],
      "metadata": {
        "colab": {
          "base_uri": "https://localhost:8080/"
        },
        "id": "_Kre2vG77b6T",
        "outputId": "62f4d15d-e270-4f30-a591-b13e119c3adf"
      },
      "execution_count": null,
      "outputs": [
        {
          "output_type": "stream",
          "name": "stdout",
          "text": [
            "[1.83333333 1.08333333 0.78333333]\n"
          ]
        }
      ]
    },
    {
      "cell_type": "code",
      "source": [
        "# Digits of accuracy\n",
        "dList_4 = []"
      ],
      "metadata": {
        "id": "TlJ-PhlfDBmB"
      },
      "execution_count": null,
      "outputs": []
    },
    {
      "cell_type": "code",
      "source": [
        "# Initialize all lists of precision testing\n",
        "n_arr = [8, 9, 10, 11, 12]\n",
        "estimatedList = []\n",
        "condList = []\n",
        "errList = []\n",
        "resdList = []\n",
        "\n",
        "# Parse through all hilbert matrices and save metrics\n",
        "for curr_n in n_arr:\n",
        "  # Initialize current system\n",
        "  curr_hilb = scipy.linalg.hilbert(curr_n)\n",
        "  curr_b = curr_hilb.sum(axis=1)\n",
        "  curr_exact = np.ones(curr_n)\n",
        "  # Calculate cond(Hilb)\n",
        "  curr_cond = np.linalg.cond(curr_hilb)\n",
        "  condList.append(curr_cond)\n",
        "  # Evaluate current degree of accuracy\n",
        "  currDeg = abs(np.log10(np.finfo(float).eps)) - np.log10(curr_cond)\n",
        "  dList_4.append(currDeg)\n",
        "  # Solve the system\n",
        "  curr_x = scipy.linalg.solve(curr_hilb, curr_b)\n",
        "  estimatedList.append(curr_x)\n",
        "  # Calculate error\n",
        "  curr_err = np.linalg.norm(np.subtract(curr_x, curr_exact), 2) / np.linalg.norm(curr_exact, 2)\n",
        "  errList.append(curr_err)\n",
        "  # Calculate residual\n",
        "  curr_resd = np.linalg.norm(np.subtract(curr_b, np.matmul(curr_hilb, curr_x)), 2) / np.linalg.norm(curr_b, 2)\n",
        "  resdList.append(curr_resd)"
      ],
      "metadata": {
        "colab": {
          "base_uri": "https://localhost:8080/"
        },
        "id": "Z3U__68P8Box",
        "outputId": "48b47d06-87bd-486c-a32a-dfd896552d16"
      },
      "execution_count": null,
      "outputs": [
        {
          "output_type": "stream",
          "name": "stderr",
          "text": [
            "<ipython-input-83-cbe5c448d0b5>:21: LinAlgWarning: Ill-conditioned matrix (rcond=2.34967e-17): result may not be accurate.\n",
            "  curr_x = scipy.linalg.solve(curr_hilb, curr_b)\n"
          ]
        }
      ]
    },
    {
      "cell_type": "code",
      "source": [
        "print(dList_4)"
      ],
      "metadata": {
        "colab": {
          "base_uri": "https://localhost:8080/"
        },
        "id": "e4iCk4ZE3zUY",
        "outputId": "3291c98f-acbf-4dd9-e6a3-af43b8f24850"
      },
      "execution_count": null,
      "outputs": [
        {
          "output_type": "stream",
          "name": "stdout",
          "text": [
            "[5.470074245763609, 3.9605774293957907, 2.4487775368821083, 0.9356645850452612, -0.5898739793319052]\n"
          ]
        }
      ]
    },
    {
      "cell_type": "code",
      "source": [
        "print(condList)"
      ],
      "metadata": {
        "colab": {
          "base_uri": "https://localhost:8080/"
        },
        "id": "zA0QHpS1--7d",
        "outputId": "78c1de7d-8d9a-4f54-f9a6-038a90e31882"
      },
      "execution_count": null,
      "outputs": [
        {
          "output_type": "stream",
          "name": "stdout",
          "text": [
            "[15257575538.060041, 493153755941.02344, 16024416987428.36, 522270131654983.3, 1.7515952300879806e+16]\n"
          ]
        }
      ]
    },
    {
      "cell_type": "code",
      "source": [
        "pprint(estimatedList)"
      ],
      "metadata": {
        "colab": {
          "base_uri": "https://localhost:8080/"
        },
        "id": "YsGtAqre_r0L",
        "outputId": "09b92f05-5130-4146-a463-319a30b62da1"
      },
      "execution_count": null,
      "outputs": [
        {
          "output_type": "stream",
          "name": "stdout",
          "text": [
            "[array([1.        , 1.        , 0.99999998, 1.00000009, 0.99999975,\n",
            "       1.00000036, 0.99999975, 1.00000007]),\n",
            " array([1.        , 1.00000002, 0.99999968, 1.00000226, 0.99999173,\n",
            "       1.00001685, 0.99998069, 1.00001164, 0.99999713]),\n",
            " array([1.        , 1.00000012, 0.99999754, 1.00002196, 0.99989669,\n",
            "       1.00028075, 0.99954389, 1.00043705, 0.99977225, 1.00004976]),\n",
            " array([0.99999999, 1.0000007 , 0.99998226, 1.00019562, 0.9988477 ,\n",
            "       1.00401296, 0.99133333, 1.01173207, 0.99031475, 1.00445673,\n",
            "       0.99912388]),\n",
            " array([0.99999992, 1.00000954, 0.99970276, 1.00401853, 0.97073197,\n",
            "       1.1278859 , 0.64538004, 1.63922505, 0.25335552, 1.54502986,\n",
            "       0.77406075, 1.04060022])]\n"
          ]
        }
      ]
    },
    {
      "cell_type": "code",
      "source": [
        "# Print out solution of each matrix with 16 digits as shown\n",
        "acc = 0\n",
        "for lst in estimatedList:\n",
        "  print('Solution Hilbert N =', n_arr[acc])\n",
        "  print('[')\n",
        "  for elm in lst:\n",
        "    print(elm, ',')\n",
        "  print(']\\n')\n",
        "  acc += 1"
      ],
      "metadata": {
        "colab": {
          "base_uri": "https://localhost:8080/"
        },
        "id": "_jsSz7HEAfUN",
        "outputId": "7cf6e5fc-7ea3-46e5-e75d-ceaac53eaf4a"
      },
      "execution_count": null,
      "outputs": [
        {
          "output_type": "stream",
          "name": "stdout",
          "text": [
            "Solution Hilbert N = 8\n",
            "[\n",
            "0.9999999999751893 ,\n",
            "1.0000000013243644 ,\n",
            "0.9999999827152406 ,\n",
            "1.0000000936054314 ,\n",
            "0.9999997477168642 ,\n",
            "1.0000003573922531 ,\n",
            "0.9999997453681658 ,\n",
            "1.0000000719206814 ,\n",
            "]\n",
            "\n",
            "Solution Hilbert N = 9\n",
            "[\n",
            "0.9999999997244754 ,\n",
            "1.0000000188788813 ,\n",
            "0.999999682016214 ,\n",
            "1.0000022616936521 ,\n",
            "0.9999917283646602 ,\n",
            "1.000016848941065 ,\n",
            "0.999980688579362 ,\n",
            "1.0000116443966667 ,\n",
            "0.9999971272205518 ,\n",
            "]\n",
            "\n",
            "Solution Hilbert N = 10\n",
            "[\n",
            "0.9999999986020816 ,\n",
            "1.0000001176533098 ,\n",
            "0.9999975447489388 ,\n",
            "1.0000219556716656 ,\n",
            "0.9998966936927095 ,\n",
            "1.0002807451298925 ,\n",
            "0.9995438858614614 ,\n",
            "1.000437048199492 ,\n",
            "0.999772254327487 ,\n",
            "1.0000497568927875 ,\n",
            "]\n",
            "\n",
            "Solution Hilbert N = 11\n",
            "[\n",
            "0.9999999932145917 ,\n",
            "1.0000006953133032 ,\n",
            "0.999982263192807 ,\n",
            "1.0001956191295815 ,\n",
            "0.9988476956821298 ,\n",
            "1.0040129585036024 ,\n",
            "0.9913333298144259 ,\n",
            "1.0117320723395629 ,\n",
            "0.9903147531538478 ,\n",
            "1.004456731273554 ,\n",
            "0.9991238848830913 ,\n",
            "]\n",
            "\n",
            "Solution Hilbert N = 12\n",
            "[\n",
            "0.9999999238197383 ,\n",
            "1.0000095414830872 ,\n",
            "0.9997027601247802 ,\n",
            "1.0040185250450884 ,\n",
            "0.9707319655613958 ,\n",
            "1.1278859021676488 ,\n",
            "0.6453800414485759 ,\n",
            "1.6392250500963523 ,\n",
            "0.25335551930985023 ,\n",
            "1.5450298558435565 ,\n",
            "0.7740607451124353 ,\n",
            "1.0406002161396852 ,\n",
            "]\n",
            "\n"
          ]
        }
      ]
    },
    {
      "cell_type": "code",
      "source": [
        "print(condList)"
      ],
      "metadata": {
        "colab": {
          "base_uri": "https://localhost:8080/"
        },
        "id": "2Uk-2AAd_tZa",
        "outputId": "5319f468-c15c-4343-f172-e22c455433ae"
      },
      "execution_count": null,
      "outputs": [
        {
          "output_type": "stream",
          "name": "stdout",
          "text": [
            "[15257575538.060041, 493153755941.02344, 16024416987428.36, 522270131654983.3, 1.7515952300879806e+16]\n"
          ]
        }
      ]
    },
    {
      "cell_type": "code",
      "source": [
        "# Create condition number table with sizes\n",
        "myTable = PrettyTable([\"N size\", \"Digits of Accuracy\", \"Digits Ceiling\"])\n",
        "\n",
        "ceilAcc = []\n",
        "roundedAcc = []\n",
        "for i in range(len(n_arr)):\n",
        "  currD = dList_4[i] + 1\n",
        "  roundedAcc.append(currD)\n",
        "  currRound = ceil(currD)\n",
        "  ceilAcc.append(currRound)\n",
        "\n",
        "# Add rows\n",
        "for i in range(len(n_arr)):\n",
        "  myTable.add_row([n_arr[i], roundedAcc[i], ceilAcc[i]])\n",
        "\n",
        "print(myTable)"
      ],
      "metadata": {
        "colab": {
          "base_uri": "https://localhost:8080/"
        },
        "id": "FQ7mO897KAUc",
        "outputId": "3dc26973-dfe4-469e-f782-f6eed49bcba7"
      },
      "execution_count": null,
      "outputs": [
        {
          "output_type": "stream",
          "name": "stdout",
          "text": [
            "+--------+--------------------+----------------+\n",
            "| N size | Digits of Accuracy | Digits Ceiling |\n",
            "+--------+--------------------+----------------+\n",
            "|   8    | 6.470074245763609  |      7.0       |\n",
            "|   9    | 4.960577429395791  |      5.0       |\n",
            "|   10   | 3.4487775368821083 |      4.0       |\n",
            "|   11   | 1.9356645850452612 |      2.0       |\n",
            "|   12   | 0.4101260206680948 |      1.0       |\n",
            "+--------+--------------------+----------------+\n"
          ]
        }
      ]
    },
    {
      "cell_type": "code",
      "source": [
        "# Create condition number table with sizes\n",
        "myTable = PrettyTable([\"N size\", \"Condition Number\"])\n",
        "\n",
        "# Add rows\n",
        "for i in range(len(n_arr)):\n",
        "  myTable.add_row([n_arr[i], condList[i]])\n",
        "\n",
        "print(myTable)"
      ],
      "metadata": {
        "colab": {
          "base_uri": "https://localhost:8080/"
        },
        "id": "vgV8aMhxCNom",
        "outputId": "9da9fc96-6403-4a5d-fea0-4a4ae7b43a34"
      },
      "execution_count": null,
      "outputs": [
        {
          "output_type": "stream",
          "name": "stdout",
          "text": [
            "+--------+------------------------+\n",
            "| N size |    Condition Number    |\n",
            "+--------+------------------------+\n",
            "|   8    |   15257575538.060041   |\n",
            "|   9    |   493153755941.02344   |\n",
            "|   10   |   16024416987428.36    |\n",
            "|   11   |   522270131654983.3    |\n",
            "|   12   | 1.7515952300879806e+16 |\n",
            "+--------+------------------------+\n"
          ]
        }
      ]
    },
    {
      "cell_type": "code",
      "source": [
        "# Create error table with sizes\n",
        "myTable = PrettyTable([\"N size\", \"Relative Error\", \"Relative Residual\"])\n",
        "\n",
        "# Add rows\n",
        "for i in range(len(n_arr)):\n",
        "  myTable.add_row([n_arr[i], errList[i], resdList[i]])\n",
        "\n",
        "print(myTable)"
      ],
      "metadata": {
        "colab": {
          "base_uri": "https://localhost:8080/"
        },
        "id": "aLonCRcb6Z50",
        "outputId": "fee82c2f-419e-494d-a16b-aaae79917f27"
      },
      "execution_count": null,
      "outputs": [
        {
          "output_type": "stream",
          "name": "stdout",
          "text": [
            "+--------+------------------------+------------------------+\n",
            "| N size |     Relative Error     |   Relative Residual    |\n",
            "+--------+------------------------+------------------------+\n",
            "|   8    | 1.838642341710091e-07  | 1.7351483300378842e-16 |\n",
            "|   9    | 9.856184167582365e-06  | 8.299789597601006e-17  |\n",
            "|   10   | 0.00023310366588429792 | 1.1786209713090174e-16 |\n",
            "|   11   |  0.005597539673936445  | 2.364470360061518e-16  |\n",
            "|   12   |  0.34866699576489485   | 1.3627830931511819e-16 |\n",
            "+--------+------------------------+------------------------+\n"
          ]
        }
      ]
    },
    {
      "cell_type": "markdown",
      "source": [
        "# Loss of Precision (#6)"
      ],
      "metadata": {
        "id": "2LVzpEcy8Cwt"
      }
    },
    {
      "cell_type": "code",
      "source": [
        "# Intialize x\n",
        "x = 1.2e-8\n",
        "nonsci_x = f\"{x:.9f}\"\n",
        "print(nonsci_x)"
      ],
      "metadata": {
        "colab": {
          "base_uri": "https://localhost:8080/"
        },
        "id": "pZDnmTsy_1Df",
        "outputId": "406f61b9-2fbe-40c2-e1ae-b0057170862f"
      },
      "execution_count": null,
      "outputs": [
        {
          "output_type": "stream",
          "name": "stdout",
          "text": [
            "0.000000012\n"
          ]
        }
      ]
    },
    {
      "cell_type": "code",
      "source": [
        "cos_sub = 1 - math.cos(x)\n",
        "print(math.cos(x))"
      ],
      "metadata": {
        "colab": {
          "base_uri": "https://localhost:8080/"
        },
        "id": "65GHkdcnCt2y",
        "outputId": "389b8593-c180-4efe-867e-ada80dde2186"
      },
      "execution_count": null,
      "outputs": [
        {
          "output_type": "stream",
          "name": "stdout",
          "text": [
            "0.9999999999999999\n"
          ]
        }
      ]
    },
    {
      "cell_type": "code",
      "source": [
        "half_ang = 1 - 2*(math.sin(x/2))**2\n",
        "print((1 - 2*(math.sin(x/2))**2))"
      ],
      "metadata": {
        "colab": {
          "base_uri": "https://localhost:8080/"
        },
        "id": "1DV9gaLGC8LK",
        "outputId": "45a16238-3e9b-4c3e-8766-45c37c11597d"
      },
      "execution_count": null,
      "outputs": [
        {
          "output_type": "stream",
          "name": "stdout",
          "text": [
            "0.9999999999999999\n"
          ]
        }
      ]
    },
    {
      "cell_type": "code",
      "source": [
        "# Calculate number of accurate digits -log10(ε/|x-y|)\n",
        "d_cos = -np.log10((np.finfo(float).eps) / (abs(cos_sub)))\n",
        "print(d_cos)"
      ],
      "metadata": {
        "colab": {
          "base_uri": "https://localhost:8080/"
        },
        "id": "9v1xE7xJDZlV",
        "outputId": "6087d91b-452b-4000-e0fb-98c810d068d4"
      },
      "execution_count": null,
      "outputs": [
        {
          "output_type": "stream",
          "name": "stdout",
          "text": [
            "-0.3010299956639812\n"
          ]
        }
      ]
    },
    {
      "cell_type": "code",
      "source": [
        "# Calculate number of accurate digits -log10(ε/|x-y|)\n",
        "d_half = -np.log10((np.finfo(float).eps) / (abs(half_ang)))\n",
        "print(d_half)"
      ],
      "metadata": {
        "colab": {
          "base_uri": "https://localhost:8080/"
        },
        "id": "rlOAActJDyH6",
        "outputId": "76eae175-97a8-4d6c-ca45-4ad3a7782dff"
      },
      "execution_count": null,
      "outputs": [
        {
          "output_type": "stream",
          "name": "stdout",
          "text": [
            "15.653559774527022\n"
          ]
        }
      ]
    },
    {
      "cell_type": "code",
      "source": [
        "# Evaluate the given f(x) function\n",
        "eval = (1 - math.cos(x)) / ((x)**2)\n",
        "print(eval)"
      ],
      "metadata": {
        "id": "Q8IqkV1C8CUa",
        "colab": {
          "base_uri": "https://localhost:8080/"
        },
        "outputId": "01677969-37a8-489d-85ec-1049aa18aec0"
      },
      "execution_count": null,
      "outputs": [
        {
          "output_type": "stream",
          "name": "stdout",
          "text": [
            "0.7709882115452477\n"
          ]
        }
      ]
    },
    {
      "cell_type": "code",
      "source": [
        "# Evaluate same f(x) function but with the half angle formula\n",
        "eval_halfAngle = (1 - (1 - 2*(math.sin(x/2))**2)) / ((x)**2)\n",
        "print(eval_halfAngle)"
      ],
      "metadata": {
        "colab": {
          "base_uri": "https://localhost:8080/"
        },
        "id": "mV9GIMtX_dkr",
        "outputId": "14004186-0ad4-4b2c-8850-549e08091df2"
      },
      "execution_count": null,
      "outputs": [
        {
          "output_type": "stream",
          "name": "stdout",
          "text": [
            "0.7709882115452477\n"
          ]
        }
      ]
    }
  ]
}