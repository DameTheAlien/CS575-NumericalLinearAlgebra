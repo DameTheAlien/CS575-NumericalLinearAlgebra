{
  "nbformat": 4,
  "nbformat_minor": 0,
  "metadata": {
    "colab": {
      "provenance": []
    },
    "kernelspec": {
      "name": "python3",
      "display_name": "Python 3"
    },
    "language_info": {
      "name": "python"
    }
  },
  "cells": [
    {
      "cell_type": "markdown",
      "source": [
        "# Homework 7\n",
        "## Damian Franco\n",
        "## CS-575\n",
        "\n",
        "This program implements two versions of the power iteration method to predicting the largest eigenvalue and its associated eigenvector. The first implementation is a naive version with no normalization techniques while the second implemenation utilizes normalization techniques to properly compute the eigenvectors associated with the largest eigenvalues predictions."
      ],
      "metadata": {
        "id": "-URhnwuowL9t"
      }
    },
    {
      "cell_type": "code",
      "execution_count": 1,
      "metadata": {
        "id": "mN_KyGiT-crw"
      },
      "outputs": [],
      "source": [
        "# Importing the required modules\n",
        "from numpy import *\n",
        "import numpy as np\n",
        "import matplotlib.pyplot as plt\n",
        "import time\n",
        "from prettytable import PrettyTable\n",
        "import scipy\n",
        "import scipy.linalg \n",
        "from pprint import pprint\n",
        "%matplotlib inline\n",
        "import math"
      ]
    },
    {
      "cell_type": "code",
      "source": [
        "# Saves the current plot to desktop since working in Google Colab\n",
        "from google.colab import files\n",
        "#plt.savefig(\"my_plot.png\", bbox_inches='tight', dpi=300)\n",
        "#files.download(\"my_plot.png\")"
      ],
      "metadata": {
        "id": "ulDLet2awQAj"
      },
      "execution_count": 2,
      "outputs": []
    },
    {
      "cell_type": "markdown",
      "source": [
        "# Power Method"
      ],
      "metadata": {
        "id": "Cul7xJnVwSn-"
      }
    },
    {
      "cell_type": "code",
      "source": [
        "# Power iteration method, naive approach, not normailzed \n",
        "def powerIter(A, x, tol):\n",
        "  lambdaList = []\n",
        "  xList = []\n",
        "  for i in range(tol):\n",
        "    x = np.dot(A, x)\n",
        "    eigenVal = abs(x).max()\n",
        "    x = x / x.max()\n",
        "    lambdaList.append(eigenVal)\n",
        "    xList.append(x)\n",
        "  return eigenVal, x, lambdaList, xList"
      ],
      "metadata": {
        "id": "gmga-NBfXQFy"
      },
      "execution_count": 77,
      "outputs": []
    },
    {
      "cell_type": "code",
      "source": [
        "# Normalized version of power iteration method\n",
        "def powerIter_Normalized(A, x, tol):\n",
        "    x_curr = x\n",
        "    x_curr = x_curr / np.linalg.norm(x_curr) # Intial normalization\n",
        "    eigenVal = 0\n",
        "    eigenVec = np.zeros(tol)\n",
        "    valList = []\n",
        "    vecList = []\n",
        "\n",
        "    for i in range(tol):\n",
        "        y = np.matmul(A, x_curr)\n",
        "        # Compute eigenvalue\n",
        "        currEigenVal = np.dot(x_curr, y)\n",
        "        eigenVal = currEigenVal\n",
        "        valList.append(eigenVal)\n",
        "        # Compute eigenvector\n",
        "        currEigenVec = y / np.linalg.norm(y)\n",
        "        eigenVec = currEigenVec\n",
        "        vecList.append(eigenVec)\n",
        "        # Update current eigenvector\n",
        "        x_curr = eigenVec\n",
        "        \n",
        "    return eigenVal, eigenVec, valList, vecList\n"
      ],
      "metadata": {
        "id": "oi1Uwq36wvsJ"
      },
      "execution_count": 112,
      "outputs": []
    },
    {
      "cell_type": "code",
      "source": [
        "x_0 = np.array([0.5, 0.5, 0.5, 0.5])"
      ],
      "metadata": {
        "id": "XGDLb_flaH9r"
      },
      "execution_count": 79,
      "outputs": []
    },
    {
      "cell_type": "code",
      "source": [
        "A = np.array([[3, 1, 4, 1], [5, 9, 2, 6], [5, 3, 5, 8], [9, 7, 9, 3]])"
      ],
      "metadata": {
        "id": "r4i1NfEqaJPe"
      },
      "execution_count": 80,
      "outputs": []
    },
    {
      "cell_type": "code",
      "source": [
        "lam, x_new, lamList, xList = powerIter(A, x_0, 20)"
      ],
      "metadata": {
        "id": "LI55F9CQYkYL"
      },
      "execution_count": 81,
      "outputs": []
    },
    {
      "cell_type": "code",
      "source": [
        "print(lam)\n",
        "print(x_new)"
      ],
      "metadata": {
        "colab": {
          "base_uri": "https://localhost:8080/"
        },
        "id": "wdnkp9gPZAr3",
        "outputId": "1e175f33-3aee-4a44-c4da-338aca790c0d"
      },
      "execution_count": 82,
      "outputs": [
        {
          "output_type": "stream",
          "name": "stdout",
          "text": [
            "19.549363635166152\n",
            "[0.3164058  0.87789547 0.83960479 1.        ]\n"
          ]
        }
      ]
    },
    {
      "cell_type": "code",
      "source": [
        "lam_Norm, x_Norm, lamList_Norm, xList_Norm = powerIter_Normalized(A, x_0, 20)"
      ],
      "metadata": {
        "id": "97IbA-Jaw3TO"
      },
      "execution_count": 113,
      "outputs": []
    },
    {
      "cell_type": "code",
      "source": [
        "print(lam_Norm)\n",
        "print(x_Norm)"
      ],
      "metadata": {
        "colab": {
          "base_uri": "https://localhost:8080/"
        },
        "id": "gMRbxjj-xT_s",
        "outputId": "fa58c371-d9be-4034-a072-6d32febf02a4"
      },
      "execution_count": 114,
      "outputs": [
        {
          "output_type": "stream",
          "name": "stdout",
          "text": [
            "19.549363635178807\n",
            "[0.19714812 0.54700465 0.52314625 0.6230863 ]\n"
          ]
        }
      ]
    },
    {
      "cell_type": "code",
      "source": [
        "lamList"
      ],
      "metadata": {
        "colab": {
          "base_uri": "https://localhost:8080/"
        },
        "id": "7Vpqrqqdcl5F",
        "outputId": "48f4d04b-a340-4865-8ce4-6d0cd79090e0"
      },
      "execution_count": 83,
      "outputs": [
        {
          "output_type": "execute_result",
          "data": {
            "text/plain": [
              "[14.0,\n",
              " 18.142857142857142,\n",
              " 19.889763779527563,\n",
              " 19.464568487727632,\n",
              " 19.568210708293076,\n",
              " 19.54449964661373,\n",
              " 19.550416998286657,\n",
              " 19.549084736099694,\n",
              " 19.549422319904124,\n",
              " 19.549347589288363,\n",
              " 19.549366887769906,\n",
              " 19.549362707883823,\n",
              " 19.54936381418296,\n",
              " 19.549363581289192,\n",
              " 19.549363644933315,\n",
              " 19.54936363202401,\n",
              " 19.549363635701724,\n",
              " 19.54936363499118,\n",
              " 19.549363635204884,\n",
              " 19.549363635166152]"
            ]
          },
          "metadata": {},
          "execution_count": 83
        }
      ]
    },
    {
      "cell_type": "code",
      "source": [
        "xList"
      ],
      "metadata": {
        "colab": {
          "base_uri": "https://localhost:8080/"
        },
        "id": "2S-ZWTQagJgA",
        "outputId": "8452ecd6-2ebb-4989-c595-2b3b4322143a"
      },
      "execution_count": 84,
      "outputs": [
        {
          "output_type": "execute_result",
          "data": {
            "text/plain": [
              "[array([0.32142857, 0.78571429, 0.75      , 1.        ]),\n",
              " array([0.31692913, 0.89173228, 0.86614173, 1.        ]),\n",
              " array([0.31710214, 0.87193191, 0.8341251 , 1.        ]),\n",
              " array([0.31645904, 0.87857833, 0.84111456, 1.        ]),\n",
              " array([0.31645273, 0.87753191, 0.83930019, 1.        ]),\n",
              " array([0.3164108 , 0.87792737, 0.83969202, 1.        ]),\n",
              " array([0.316409  , 0.87787306, 0.83958804, 1.        ]),\n",
              " array([0.31640623, 0.87789678, 0.83960986, 1.        ]),\n",
              " array([0.31640602, 0.87789407, 0.83960388, 1.        ]),\n",
              " array([0.31640584, 0.87789551, 0.83960509, 1.        ]),\n",
              " array([0.31640582, 0.87789538, 0.83960474, 1.        ]),\n",
              " array([0.3164058 , 0.87789547, 0.83960481, 1.        ]),\n",
              " array([0.3164058 , 0.87789547, 0.83960479, 1.        ]),\n",
              " array([0.3164058 , 0.87789547, 0.83960479, 1.        ]),\n",
              " array([0.3164058 , 0.87789547, 0.83960479, 1.        ]),\n",
              " array([0.3164058 , 0.87789547, 0.83960479, 1.        ]),\n",
              " array([0.3164058 , 0.87789547, 0.83960479, 1.        ]),\n",
              " array([0.3164058 , 0.87789547, 0.83960479, 1.        ]),\n",
              " array([0.3164058 , 0.87789547, 0.83960479, 1.        ]),\n",
              " array([0.3164058 , 0.87789547, 0.83960479, 1.        ])]"
            ]
          },
          "metadata": {},
          "execution_count": 84
        }
      ]
    },
    {
      "cell_type": "code",
      "source": [
        "lamList_Norm"
      ],
      "metadata": {
        "colab": {
          "base_uri": "https://localhost:8080/"
        },
        "id": "4NcJ1lxiyvCD",
        "outputId": "7f0c466f-d0fe-4e93-d1b1-4b7b08ef8787"
      },
      "execution_count": 115,
      "outputs": [
        {
          "output_type": "execute_result",
          "data": {
            "text/plain": [
              "[20.0,\n",
              " 19.485474860335195,\n",
              " 19.54897963368161,\n",
              " 19.55152526640655,\n",
              " 19.549644377378673,\n",
              " 19.549529748994665,\n",
              " 19.549388120830027,\n",
              " 19.549375237246416,\n",
              " 19.549365606808475,\n",
              " 19.549364450446447,\n",
              " 19.54936378975692,\n",
              " 19.549363692988635,\n",
              " 19.54936364709169,\n",
              " 19.549363639308527,\n",
              " 19.549363636084703,\n",
              " 19.549363635474343,\n",
              " 19.549363635245776,\n",
              " 19.549363635198716,\n",
              " 19.54936363518238,\n",
              " 19.549363635178807]"
            ]
          },
          "metadata": {},
          "execution_count": 115
        }
      ]
    },
    {
      "cell_type": "code",
      "source": [
        "xList_Norm"
      ],
      "metadata": {
        "colab": {
          "base_uri": "https://localhost:8080/"
        },
        "id": "oU5y1d2sy54K",
        "outputId": "037e6b4e-04bc-4a76-8338-3952f93c64e3"
      },
      "execution_count": 116,
      "outputs": [
        {
          "output_type": "execute_result",
          "data": {
            "text/plain": [
              "[array([0.21272376, 0.51999141, 0.49635543, 0.66180724]),\n",
              " array([0.1948413 , 0.54821808, 0.53248555, 0.61477877]),\n",
              " array([0.19832121, 0.54532143, 0.52167639, 0.62541745]),\n",
              " array([0.19703713, 0.54702987, 0.52370378, 0.62263074]),\n",
              " array([0.19722024, 0.54689702, 0.52307018, 0.6232218 ]),\n",
              " array([0.19714337, 0.54700268, 0.52317971, 0.62306143]),\n",
              " array([0.19715262, 0.54699763, 0.52314245, 0.62309422]),\n",
              " array([0.19714796, 0.54700428, 0.52314828, 0.62308496]),\n",
              " array([0.19714841, 0.54700418, 0.52314607, 0.62308677]),\n",
              " array([0.19714812, 0.54700461, 0.52314637, 0.62308623]),\n",
              " array([0.19714814, 0.54700461, 0.52314624, 0.62308633]),\n",
              " array([0.19714812, 0.54700464, 0.52314625, 0.6230863 ]),\n",
              " array([0.19714812, 0.54700464, 0.52314625, 0.62308631]),\n",
              " array([0.19714812, 0.54700465, 0.52314625, 0.6230863 ]),\n",
              " array([0.19714812, 0.54700465, 0.52314625, 0.6230863 ]),\n",
              " array([0.19714812, 0.54700465, 0.52314625, 0.6230863 ]),\n",
              " array([0.19714812, 0.54700465, 0.52314625, 0.6230863 ]),\n",
              " array([0.19714812, 0.54700465, 0.52314625, 0.6230863 ]),\n",
              " array([0.19714812, 0.54700465, 0.52314625, 0.6230863 ]),\n",
              " array([0.19714812, 0.54700465, 0.52314625, 0.6230863 ])]"
            ]
          },
          "metadata": {},
          "execution_count": 116
        }
      ]
    },
    {
      "cell_type": "code",
      "source": [
        "print(np.abs(lam - np.matmul(xList_Norm[1].T, np.matmul(A, xList_Norm[1]))))"
      ],
      "metadata": {
        "colab": {
          "base_uri": "https://localhost:8080/"
        },
        "id": "F42Ldhhur7zK",
        "outputId": "2005d91c-86e2-4e26-9ea1-181dae697095"
      },
      "execution_count": 117,
      "outputs": [
        {
          "output_type": "stream",
          "name": "stdout",
          "text": [
            "0.00038400148454087457\n"
          ]
        }
      ]
    },
    {
      "cell_type": "code",
      "source": [
        "print(np.abs(lam - np.matmul(xList_Norm[19].T, np.matmul(A, xList_Norm[19]))))"
      ],
      "metadata": {
        "colab": {
          "base_uri": "https://localhost:8080/"
        },
        "id": "ZAmgKnUbsBHS",
        "outputId": "8c276000-1f07-4446-8d3b-e5d3cb554695"
      },
      "execution_count": 118,
      "outputs": [
        {
          "output_type": "stream",
          "name": "stdout",
          "text": [
            "1.1468159755168017e-11\n"
          ]
        }
      ]
    },
    {
      "cell_type": "code",
      "source": [
        "errorLam = []\n",
        "for i in range(20):\n",
        "  matMult = np.dot(xList_Norm[i].T, np.dot(A, xList_Norm[i]))\n",
        "  errApprox = abs(lam - matMult)\n",
        "  errorLam.append(errApprox)"
      ],
      "metadata": {
        "id": "lKmhuxIVgWuh"
      },
      "execution_count": 119,
      "outputs": []
    },
    {
      "cell_type": "code",
      "source": [
        "errorLam"
      ],
      "metadata": {
        "colab": {
          "base_uri": "https://localhost:8080/"
        },
        "id": "yeKAb3vsh7YA",
        "outputId": "42c144ef-c391-4493-abad-dca7ce28008a"
      },
      "execution_count": 120,
      "outputs": [
        {
          "output_type": "execute_result",
          "data": {
            "text/plain": [
              "[0.06388877483095712,\n",
              " 0.00038400148454087457,\n",
              " 0.00216163124039781,\n",
              " 0.00028074221252083476,\n",
              " 0.0001661138285129482,\n",
              " 2.4485663875140062e-05,\n",
              " 1.1602080263628523e-05,\n",
              " 1.9716423231841418e-06,\n",
              " 8.152802948302451e-07,\n",
              " 1.5459076863066912e-07,\n",
              " 5.7822482801839215e-08,\n",
              " 1.1925536114176793e-08,\n",
              " 4.142375331639414e-09,\n",
              " 9.185505689401907e-10,\n",
              " 3.0819080620858585e-10,\n",
              " 7.962341896927683e-11,\n",
              " 3.256417357988539e-11,\n",
              " 1.6228796084760688e-11,\n",
              " 1.2654766123887384e-11,\n",
              " 1.1468159755168017e-11]"
            ]
          },
          "metadata": {},
          "execution_count": 120
        }
      ]
    },
    {
      "cell_type": "code",
      "source": [
        "errorFactor = [0.0]\n",
        "for i in range(1, 20):\n",
        "  currFact = errorLam[i-1] / errorLam[i]\n",
        "  errorFactor.append(currFact)"
      ],
      "metadata": {
        "id": "572Exg3SilWe"
      },
      "execution_count": 121,
      "outputs": []
    },
    {
      "cell_type": "code",
      "source": [
        "errorFactor"
      ],
      "metadata": {
        "colab": {
          "base_uri": "https://localhost:8080/"
        },
        "id": "niCaNhUtjCKI",
        "outputId": "5f2179a0-e5de-41cd-fd62-3c2ae9bde1a4"
      },
      "execution_count": 122,
      "outputs": [
        {
          "output_type": "execute_result",
          "data": {
            "text/plain": [
              "[0.0,\n",
              " 166.37637457924086,\n",
              " 0.1776443073936172,\n",
              " 7.69970151972564,\n",
              " 1.690059250539467,\n",
              " 6.784125983269792,\n",
              " 2.110454618375673,\n",
              " 5.88447515414029,\n",
              " 2.4183613116697127,\n",
              " 5.273796760646304,\n",
              " 2.673540829446222,\n",
              " 4.848627537432152,\n",
              " 2.8789124981238876,\n",
              " 4.509686751834275,\n",
              " 2.9804606446258126,\n",
              " 3.870605033018026,\n",
              " 2.4451232816932142,\n",
              " 2.0065674255691768,\n",
              " 1.282425603593487,\n",
              " 1.1034696406443618]"
            ]
          },
          "metadata": {},
          "execution_count": 122
        }
      ]
    },
    {
      "cell_type": "code",
      "source": [
        "errorVec = []\n",
        "pm = 1\n",
        "for i in range(20):\n",
        "  errVecCurr = np.linalg.norm(x_Norm - pm*xList_Norm[i])\n",
        "  errorVec.append(errVecCurr)"
      ],
      "metadata": {
        "id": "OtdwcehUjTRg"
      },
      "execution_count": 125,
      "outputs": []
    },
    {
      "cell_type": "code",
      "source": [
        "errorVec"
      ],
      "metadata": {
        "colab": {
          "base_uri": "https://localhost:8080/"
        },
        "id": "w6lHLNHzj5cc",
        "outputId": "0fce5cc3-d027-41fc-e809-f9ab8948bf9d"
      },
      "execution_count": 126,
      "outputs": [
        {
          "output_type": "execute_result",
          "data": {
            "text/plain": [
              "[0.056474546861129425,\n",
              " 0.012768379455168599,\n",
              " 0.0034357045390233805,\n",
              " 0.0007289289507268106,\n",
              " 0.00020231481158017772,\n",
              " 4.20106060087738e-05,\n",
              " 1.210384997107185e-05,\n",
              " 2.4678981224583485e-06,\n",
              " 7.391482731971982e-07,\n",
              " 1.49269597325479e-07,\n",
              " 4.627393432864414e-08,\n",
              " 9.38520693200393e-09,\n",
              " 2.9781336040662133e-09,\n",
              " 6.160954825090357e-10,\n",
              " 1.9698968857660358e-10,\n",
              " 4.1929989472355166e-11,\n",
              " 1.3238290062761579e-11,\n",
              " 2.7605936331778352e-12,\n",
              " 7.800910609569593e-13,\n",
              " 0.0]"
            ]
          },
          "metadata": {},
          "execution_count": 126
        }
      ]
    },
    {
      "cell_type": "code",
      "source": [
        "errorVecFactor = [0.0]\n",
        "for i in range(1, 20):\n",
        "  if errorVec[i] != 0:\n",
        "    currFact = errorVec[i-1] / errorVec[i]\n",
        "    errorVecFactor.append(currFact)\n",
        "  else:\n",
        "    errorVecFactor.append(0.0)"
      ],
      "metadata": {
        "id": "FjfzFqAVklRf"
      },
      "execution_count": 127,
      "outputs": []
    },
    {
      "cell_type": "code",
      "source": [
        "errorVecFactor"
      ],
      "metadata": {
        "colab": {
          "base_uri": "https://localhost:8080/"
        },
        "id": "LjRFxN9GkrWf",
        "outputId": "6f78fb79-7ee7-470a-8b71-417fe113695c"
      },
      "execution_count": 128,
      "outputs": [
        {
          "output_type": "execute_result",
          "data": {
            "text/plain": [
              "[0.0,\n",
              " 4.423000354854642,\n",
              " 3.7163787834905286,\n",
              " 4.713359972323311,\n",
              " 3.602944070350157,\n",
              " 4.815803217357179,\n",
              " 3.470846557845559,\n",
              " 4.904517678799008,\n",
              " 3.338840408546737,\n",
              " 4.951767047280914,\n",
              " 3.225781414334577,\n",
              " 4.930518278808342,\n",
              " 3.15137202682572,\n",
              " 4.833883202548131,\n",
              " 3.1275519391942894,\n",
              " 4.698061961271913,\n",
              " 3.1673266920099756,\n",
              " 4.795450479802211,\n",
              " 3.5388094689757614,\n",
              " 0.0]"
            ]
          },
          "metadata": {},
          "execution_count": 128
        }
      ]
    },
    {
      "cell_type": "code",
      "source": [
        "# Create error table with sizes\n",
        "# Specify the Column Names while initializing the Table\n",
        "myTable = PrettyTable([\"Iteration\", \"Estimated EigenVal\", \"EigenVal Error\", \"EigenVal Error Factor\", \"EigenVec Error\", \"EigenVec Error Factor\"])\n",
        "iterNum = range(1,21)\n",
        "# Add rows\n",
        "for i in range(20):\n",
        "  myTable.add_row([iterNum[i], lamList[i], errorLam[i], errorFactor[i], errorVec[i], errorVecFactor[i]])\n",
        "\n",
        "print(myTable)"
      ],
      "metadata": {
        "colab": {
          "base_uri": "https://localhost:8080/"
        },
        "id": "L7LkhqQck-wt",
        "outputId": "6f490b33-9749-41fb-974d-d601ea9bdfa2"
      },
      "execution_count": 129,
      "outputs": [
        {
          "output_type": "stream",
          "name": "stdout",
          "text": [
            "+-----------+--------------------+------------------------+-----------------------+------------------------+-----------------------+\n",
            "| Iteration | Estimated EigenVal |     EigenVal Error     | EigenVal Error Factor |     EigenVec Error     | EigenVec Error Factor |\n",
            "+-----------+--------------------+------------------------+-----------------------+------------------------+-----------------------+\n",
            "|     1     |        14.0        |  0.06388877483095712   |          0.0          |  0.056474546861129425  |          0.0          |\n",
            "|     2     | 18.142857142857142 | 0.00038400148454087457 |   166.37637457924086  |  0.012768379455168599  |   4.423000354854642   |\n",
            "|     3     | 19.889763779527563 |  0.00216163124039781   |   0.1776443073936172  | 0.0034357045390233805  |   3.7163787834905286  |\n",
            "|     4     | 19.464568487727632 | 0.00028074221252083476 |    7.69970151972564   | 0.0007289289507268106  |   4.713359972323311   |\n",
            "|     5     | 19.568210708293076 | 0.0001661138285129482  |   1.690059250539467   | 0.00020231481158017772 |   3.602944070350157   |\n",
            "|     6     | 19.54449964661373  | 2.4485663875140062e-05 |   6.784125983269792   |  4.20106060087738e-05  |   4.815803217357179   |\n",
            "|     7     | 19.550416998286657 | 1.1602080263628523e-05 |   2.110454618375673   | 1.210384997107185e-05  |   3.470846557845559   |\n",
            "|     8     | 19.549084736099694 | 1.9716423231841418e-06 |    5.88447515414029   | 2.4678981224583485e-06 |   4.904517678799008   |\n",
            "|     9     | 19.549422319904124 | 8.152802948302451e-07  |   2.4183613116697127  | 7.391482731971982e-07  |   3.338840408546737   |\n",
            "|     10    | 19.549347589288363 | 1.5459076863066912e-07 |   5.273796760646304   |  1.49269597325479e-07  |   4.951767047280914   |\n",
            "|     11    | 19.549366887769906 | 5.7822482801839215e-08 |   2.673540829446222   | 4.627393432864414e-08  |   3.225781414334577   |\n",
            "|     12    | 19.549362707883823 | 1.1925536114176793e-08 |   4.848627537432152   |  9.38520693200393e-09  |   4.930518278808342   |\n",
            "|     13    | 19.54936381418296  | 4.142375331639414e-09  |   2.8789124981238876  | 2.9781336040662133e-09 |    3.15137202682572   |\n",
            "|     14    | 19.549363581289192 | 9.185505689401907e-10  |   4.509686751834275   | 6.160954825090357e-10  |   4.833883202548131   |\n",
            "|     15    | 19.549363644933315 | 3.0819080620858585e-10 |   2.9804606446258126  | 1.9698968857660358e-10 |   3.1275519391942894  |\n",
            "|     16    | 19.54936363202401  | 7.962341896927683e-11  |   3.870605033018026   | 4.1929989472355166e-11 |   4.698061961271913   |\n",
            "|     17    | 19.549363635701724 | 3.256417357988539e-11  |   2.4451232816932142  | 1.3238290062761579e-11 |   3.1673266920099756  |\n",
            "|     18    | 19.54936363499118  | 1.6228796084760688e-11 |   2.0065674255691768  | 2.7605936331778352e-12 |   4.795450479802211   |\n",
            "|     19    | 19.549363635204884 | 1.2654766123887384e-11 |   1.282425603593487   | 7.800910609569593e-13  |   3.5388094689757614  |\n",
            "|     20    | 19.549363635166152 | 1.1468159755168017e-11 |   1.1034696406443618  |          0.0           |          0.0          |\n",
            "+-----------+--------------------+------------------------+-----------------------+------------------------+-----------------------+\n"
          ]
        }
      ]
    }
  ]
}